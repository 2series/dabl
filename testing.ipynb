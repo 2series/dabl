{
 "cells": [
  {
   "cell_type": "code",
   "execution_count": 1,
   "metadata": {},
   "outputs": [],
   "source": [
    "import fml"
   ]
  },
  {
   "cell_type": "code",
   "execution_count": 2,
   "metadata": {},
   "outputs": [],
   "source": [
    "import pandas as pd"
   ]
  },
  {
   "cell_type": "code",
   "execution_count": 3,
   "metadata": {},
   "outputs": [
    {
     "name": "stderr",
     "output_type": "stream",
     "text": [
      "/home/andy/anaconda3/envs/py37/lib/python3.7/site-packages/IPython/core/interactiveshell.py:2785: DtypeWarning: Columns (0) have mixed types. Specify dtype option on import or set low_memory=False.\n",
      "  interactivity=interactivity, compiler=compiler, result=result)\n"
     ]
    }
   ],
   "source": [
    "avocado = pd.read_csv(\"/home/andy/datasets/avocado.csv\", parse_dates=['Date'])\n",
    "telco_churn = pd.read_csv(\"/home/andy/datasets/WA_Fn-UseC_-Telco-Customer-Churn.csv\")\n",
    "#restaurant = pd.read_csv(\"/home/andy/datasets/restaurant-and-market-health-violations.csv\")\n",
    "titanic = pd.read_csv(\"fml/tests/titanic.csv\")\n",
    "ames = pd.read_excel(\"/home/andy/datasets/AmesHousing.xls\")\n",
    "cars = pd.read_excel(\"/home/andy/datasets/2018 FE Guide for DOE-release dates before 1-24-2018-no-sales-1-23-2018public.xlsx\")\n",
    "accidents = pd.read_csv(\"/home/andy/datasets/Acc.csv\")\n",
    "violations = pd.read_csv(\"/home/andy/datasets/Traffic_Violations.csv\")\n",
    "adult = pd.read_csv(\"http://github.com/amueller/ml-training-advanced/raw/master/notebooks/data/adult.csv\")\n",
    "\n",
    "# individual_donations = pd.read_csv(\"/home/andy/datasets/itcont.txt\")\n",
    "# FIXME add rent stuff from first year\n",
    "# FIXME add stuff from Gael's papers"
   ]
  },
  {
   "cell_type": "code",
   "execution_count": 3,
   "metadata": {},
   "outputs": [],
   "source": [
    "from fml.preprocessing import detect_types_dataframe"
   ]
  },
  {
   "cell_type": "code",
   "execution_count": 4,
   "metadata": {},
   "outputs": [],
   "source": [
    "cars = pd.read_excel(\"/home/andy/datasets/2018 FE Guide for DOE-release dates before 1-24-2018-no-sales-1-23-2018public.xlsx\")\n",
    "\n",
    "types = detect_types_dataframe(cars)"
   ]
  },
  {
   "cell_type": "code",
   "execution_count": 6,
   "metadata": {},
   "outputs": [
    {
     "data": {
      "text/plain": [
       "Index(['Carline', 'Eng Displ', 'City Unadj FE - Conventional Fuel',\n",
       "       'Air Aspiration Method Desc', 'Trans', '# Gears',\n",
       "       'Lockup Torque Converter', 'Trans Creeper Gear', 'Drive Sys',\n",
       "       'Max Biodiesel %', 'Fuel Usage  - Conventional Fuel',\n",
       "       'Fuel Usage Desc - Conventional Fuel',\n",
       "       'Hwy2 Fuel FE (Guide) - Alternative Fuel',\n",
       "       'Comb2 Fuel FE (Guide) - Alternative Fuel',\n",
       "       'City2 Unadj FE - Alternative Fuel',\n",
       "       'Comb2 Unadj FE - Alternative Fuel',\n",
       "       'City2 Unrd Adj FE - Alternative Fuel',\n",
       "       'Hwy2 Unrd Adj FE - Alternative Fuel',\n",
       "       'Cmb2 Unrd Adj FE - Alternative Fuel',\n",
       "       ' Range2 - Alt Fuel Model Typ Driving Range - Alternative Fuel',\n",
       "       ' Fuel2 Usage - Alternative Fuel',\n",
       "       ' Fuel2 Usage Desc - Alternative Fuel', 'Fuel2 Unit - Alternative Fuel',\n",
       "       'City CO2 Rounded Adjusted - Fuel2', 'Hwy CO2 Rounded Adjusted - Fuel2',\n",
       "       'Comb CO2 Rounded Adjusted - Fuel2',\n",
       "       'Fuel2 EPA Calculated Annual Fuel Cost - Alternative Fuel',\n",
       "       'Unique Label?', 'Relabel Desc', 'Comments - Mfr Eng Cnfg',\n",
       "       'Batt Specific Energy (Watt-hr/kg)', 'Batt Charger Type Desc',\n",
       "       'Regen Braking Type Desc', 'Fuel Cell Onboard H2 Capacity (kg)',\n",
       "       'HEV-EV Comments', '# Drive Motor Gen', 'Motor Gen Type Desc',\n",
       "       'Motor Gen Type, If Other', 'Fuel Metering Type 1 Desc',\n",
       "       'Fuel Metering Type 2 Desc', 'Fuel Metering Sys Cd',\n",
       "       'Fuel Metering Sys Desc', 'Fuel Cell Vehicle (Y or N)',\n",
       "       'Off Board Charge Capable (Y or N)',\n",
       "       'Stop/Start System (Engine Management System)  Description',\n",
       "       'Charge Depleting Calc Appr Code (PHEV only)',\n",
       "       '#4 Mfr Smog Rating (Mfr Smog 1-10 Rating on Label for Test Group 4)'],\n",
       "      dtype='object')"
      ]
     },
     "execution_count": 6,
     "metadata": {},
     "output_type": "execute_result"
    }
   ],
   "source": [
    "cars.columns[types.continuous]"
   ]
  },
  {
   "cell_type": "code",
   "execution_count": 6,
   "metadata": {},
   "outputs": [],
   "source": [
    "bla = cars.loc[:, types.low_card_int]"
   ]
  },
  {
   "cell_type": "code",
   "execution_count": 7,
   "metadata": {},
   "outputs": [],
   "source": [
    "y = bla['Comb FE (Guide) - Conventional Fuel']"
   ]
  },
  {
   "cell_type": "code",
   "execution_count": 53,
   "metadata": {},
   "outputs": [],
   "source": [
    "y.mean()\n",
    "poi = scipy.stats.poisson(y.mean())"
   ]
  },
  {
   "cell_type": "code",
   "execution_count": 57,
   "metadata": {},
   "outputs": [
    {
     "data": {
      "text/plain": [
       "<scipy.stats._distn_infrastructure.rv_frozen at 0x7f86844576d8>"
      ]
     },
     "execution_count": 57,
     "metadata": {},
     "output_type": "execute_result"
    }
   ],
   "source": [
    "poi.dist."
   ]
  },
  {
   "cell_type": "code",
   "execution_count": 103,
   "metadata": {},
   "outputs": [],
   "source": [
    "def fit_poisson(values):\n",
    "    mean = np.mean(values)\n",
    "    p = scipy.stats.poisson(mean).logpmf(values).mean()\n",
    "    return p\n",
    "\n",
    "def fit_binomial(values):\n",
    "    m = np.max(x)\n",
    "    p = y.mean() / m\n",
    "    bn = scipy.stats.binom(m, p)\n",
    "    return bn.logpmf(values).mean()"
   ]
  },
  {
   "cell_type": "code",
   "execution_count": 69,
   "metadata": {},
   "outputs": [
    {
     "data": {
      "text/plain": [
       "-30.697407235919073"
      ]
     },
     "execution_count": 69,
     "metadata": {},
     "output_type": "execute_result"
    }
   ],
   "source": [
    "scipy.stats.poisson(3).logpmf(y).mean()"
   ]
  },
  {
   "cell_type": "code",
   "execution_count": 68,
   "metadata": {},
   "outputs": [
    {
     "data": {
      "text/plain": [
       "-3.128128725932491"
      ]
     },
     "execution_count": 68,
     "metadata": {},
     "output_type": "execute_result"
    }
   ],
   "source": [
    "poi.logpmf(y).mean()"
   ]
  },
  {
   "cell_type": "code",
   "execution_count": 94,
   "metadata": {},
   "outputs": [
    {
     "name": "stderr",
     "output_type": "stream",
     "text": [
      "/home/andy/anaconda3/envs/py37/lib/python3.7/site-packages/matplotlib/axes/_axes.py:6521: MatplotlibDeprecationWarning: \n",
      "The 'normed' kwarg was deprecated in Matplotlib 2.1 and will be removed in 3.1. Use 'density' instead.\n",
      "  alternative=\"'density'\", removal=\"3.1\")\n"
     ]
    },
    {
     "data": {
      "text/plain": [
       "(array([0.00165563, 0.00413907, 0.0057947 , 0.01241722, 0.01572848,\n",
       "        0.0281457 , 0.04635762, 0.06788079, 0.08029801, 0.06374172,\n",
       "        0.07119205, 0.0852649 , 0.08195364, 0.07201987, 0.0736755 ,\n",
       "        0.04801325, 0.05298013, 0.03890728, 0.03062914, 0.02152318,\n",
       "        0.01903974, 0.02566225, 0.0115894 , 0.0115894 , 0.00827815,\n",
       "        0.00413907, 0.00124172, 0.00082781, 0.00165563, 0.00165563,\n",
       "        0.00027594, 0.00082781, 0.00082781, 0.00041391, 0.00055188,\n",
       "        0.00082781, 0.00082781]),\n",
       " array([11, 12, 13, 14, 15, 16, 17, 18, 19, 20, 21, 22, 23, 24, 25, 26, 27,\n",
       "        28, 29, 30, 31, 32, 33, 34, 35, 36, 37, 39, 40, 42, 43, 46, 49, 50,\n",
       "        52, 55, 56, 58]),\n",
       " <a list of 37 Patch objects>)"
      ]
     },
     "execution_count": 94,
     "metadata": {},
     "output_type": "execute_result"
    },
    {
     "data": {
      "image/png": "[encoded data removed]",
      "text/plain": [
       "<Figure size 432x288 with 1 Axes>"
      ]
     },
     "metadata": {},
     "output_type": "display_data"
    }
   ],
   "source": [
    "x = np.unique(y)\n",
    "plt.plot(x, poi.pmf(x))\n",
    "plt.hist(y, alpha=.5, bins=np.unique(y), normed=True)"
   ]
  },
  {
   "cell_type": "code",
   "execution_count": 104,
   "metadata": {},
   "outputs": [
    {
     "data": {
      "text/plain": [
       "-3.3900283537733347"
      ]
     },
     "execution_count": 104,
     "metadata": {},
     "output_type": "execute_result"
    }
   ],
   "source": [
    "fit_binomial(y)"
   ]
  },
  {
   "cell_type": "code",
   "execution_count": 105,
   "metadata": {},
   "outputs": [
    {
     "data": {
      "text/plain": [
       "-3.128128725932491"
      ]
     },
     "execution_count": 105,
     "metadata": {},
     "output_type": "execute_result"
    }
   ],
   "source": [
    "fit_poisson(y)"
   ]
  },
  {
   "cell_type": "code",
   "execution_count": 93,
   "metadata": {},
   "outputs": [
    {
     "name": "stderr",
     "output_type": "stream",
     "text": [
      "/home/andy/anaconda3/envs/py37/lib/python3.7/site-packages/matplotlib/axes/_axes.py:6521: MatplotlibDeprecationWarning: \n",
      "The 'normed' kwarg was deprecated in Matplotlib 2.1 and will be removed in 3.1. Use 'density' instead.\n",
      "  alternative=\"'density'\", removal=\"3.1\")\n"
     ]
    },
    {
     "data": {
      "text/plain": [
       "(array([0.00165563, 0.00413907, 0.0057947 , 0.01241722, 0.01572848,\n",
       "        0.0281457 , 0.04635762, 0.06788079, 0.08029801, 0.06374172,\n",
       "        0.07119205, 0.0852649 , 0.08195364, 0.07201987, 0.0736755 ,\n",
       "        0.04801325, 0.05298013, 0.03890728, 0.03062914, 0.02152318,\n",
       "        0.01903974, 0.02566225, 0.0115894 , 0.0115894 , 0.00827815,\n",
       "        0.00413907, 0.00124172, 0.00082781, 0.00165563, 0.00165563,\n",
       "        0.00027594, 0.00082781, 0.00082781, 0.00041391, 0.00055188,\n",
       "        0.00082781, 0.00082781]),\n",
       " array([11, 12, 13, 14, 15, 16, 17, 18, 19, 20, 21, 22, 23, 24, 25, 26, 27,\n",
       "        28, 29, 30, 31, 32, 33, 34, 35, 36, 37, 39, 40, 42, 43, 46, 49, 50,\n",
       "        52, 55, 56, 58]),\n",
       " <a list of 37 Patch objects>)"
      ]
     },
     "execution_count": 93,
     "metadata": {},
     "output_type": "execute_result"
    },
    {
     "data": {
      "image/png": "[encoded data removed]",
      "text/plain": [
       "<Figure size 432x288 with 1 Axes>"
      ]
     },
     "metadata": {},
     "output_type": "display_data"
    }
   ],
   "source": [
    "m = np.max(x)\n",
    "p = y.mean() / m\n",
    "bn = scipy.stats.binom(m, p)\n",
    "plt.plot(x, bn.pmf(x))\n",
    "plt.hist(y, alpha=.5, bins=np.unique(y), normed=True)"
   ]
  },
  {
   "cell_type": "code",
   "execution_count": null,
   "metadata": {},
   "outputs": [],
   "source": []
  },
  {
   "cell_type": "code",
   "execution_count": 97,
   "metadata": {},
   "outputs": [
    {
     "data": {
      "text/plain": [
       "array([12, 15,  3, 14,  1,  4, 10, 11,  0, 13,  2,  8,  5,  7,  9,  6])"
      ]
     },
     "execution_count": 97,
     "metadata": {},
     "output_type": "execute_result"
    }
   ],
   "source": [
    "perm"
   ]
  },
  {
   "cell_type": "code",
   "execution_count": 107,
   "metadata": {},
   "outputs": [
    {
     "data": {
      "image/png": "[encoded data removed]",
      "text/plain": [
       "<Figure size 432x288 with 1 Axes>"
      ]
     },
     "metadata": {},
     "output_type": "display_data"
    },
    {
     "data": {
      "image/png": "[encoded data removed]",
      "text/plain": [
       "<Figure size 432x288 with 1 Axes>"
      ]
     },
     "metadata": {},
     "output_type": "display_data"
    },
    {
     "data": {
      "image/png": "[encoded data removed]",
      "text/plain": [
       "<Figure size 432x288 with 1 Axes>"
      ]
     },
     "metadata": {},
     "output_type": "display_data"
    },
    {
     "data": {
      "image/png": "[encoded data removed]",
      "text/plain": [
       "<Figure size 432x288 with 1 Axes>"
      ]
     },
     "metadata": {},
     "output_type": "display_data"
    },
    {
     "data": {
      "image/png": "[encoded data removed]",
      "text/plain": [
       "<Figure size 432x288 with 1 Axes>"
      ]
     },
     "metadata": {},
     "output_type": "display_data"
    },
    {
     "data": {
      "image/png": "[encoded data removed]",
      "text/plain": [
       "<Figure size 432x288 with 1 Axes>"
      ]
     },
     "metadata": {},
     "output_type": "display_data"
    },
    {
     "data": {
      "image/png": "[encoded data removed]",
      "text/plain": [
       "<Figure size 432x288 with 1 Axes>"
      ]
     },
     "metadata": {},
     "output_type": "display_data"
    }
   ],
   "source": [
    "%matplotlib inline\n",
    "import matplotlib.pyplot as plt\n",
    "for c in bla.columns:\n",
    "    col = bla[c]\n",
    "    perm = np.random.permutation(col.max() + 1)\n",
    "    plt.figure()\n",
    "    col.value_counts().sort_index().plot.bar()\n",
    "    plt.gca().set_title(\"{}: {:.3f} vs {:.3f}, {:.3f} vs {:.3f}\".format(c, fit_poisson(col), fit_poisson(perm[col]), fit_binomial(col), fit_binomial(perm[col])))"
   ]
  },
  {
   "cell_type": "code",
   "execution_count": 10,
   "metadata": {},
   "outputs": [
    {
     "data": {
      "text/plain": [
       "dtype('int64')"
      ]
     },
     "execution_count": 10,
     "metadata": {},
     "output_type": "execute_result"
    }
   ],
   "source": [
    "cars['Comb FE (Guide) - Conventional Fuel'].dtype"
   ]
  },
  {
   "cell_type": "code",
   "execution_count": 9,
   "metadata": {},
   "outputs": [
    {
     "data": {
      "text/plain": [
       "continuous      False\n",
       "dirty_float     False\n",
       "low_card_int     True\n",
       "categorical     False\n",
       "date            False\n",
       "free_string     False\n",
       "useless         False\n",
       "Name: Comb FE (Guide) - Conventional Fuel, dtype: bool"
      ]
     },
     "execution_count": 9,
     "metadata": {},
     "output_type": "execute_result"
    }
   ],
   "source": [
    "types.loc['Comb FE (Guide) - Conventional Fuel']"
   ]
  },
  {
   "cell_type": "code",
   "execution_count": 5,
   "metadata": {},
   "outputs": [
    {
     "name": "stdout",
     "output_type": "stream",
     "text": [
      "regression\n"
     ]
    },
    {
     "data": {
      "image/png": "[encoded data removed]",
      "text/plain": [
       "<Figure size 432x288 with 16 Axes>"
      ]
     },
     "metadata": {},
     "output_type": "display_data"
    }
   ],
   "source": [
    "from fml.plotting import plot_supervised\n",
    "%matplotlib inline\n",
    "plot_supervised(cars, 'Comb Unadj FE - Conventional Fuel')"
   ]
  },
  {
   "cell_type": "code",
   "execution_count": 9,
   "metadata": {},
   "outputs": [
    {
     "data": {
      "text/plain": [
       "continuous      False\n",
       "dirty_float     False\n",
       "low_card_int    False\n",
       "categorical     False\n",
       "date            False\n",
       "free_string     False\n",
       "useless          True\n",
       "Name: #4 Smog Rating Test Group, dtype: bool"
      ]
     },
     "execution_count": 9,
     "metadata": {},
     "output_type": "execute_result"
    }
   ],
   "source": [
    "types.loc['#4 Smog Rating Test Group']"
   ]
  },
  {
   "cell_type": "code",
   "execution_count": 10,
   "metadata": {},
   "outputs": [],
   "source": [
    "grr = cars.loc[:, types.continuous]"
   ]
  },
  {
   "cell_type": "code",
   "execution_count": 11,
   "metadata": {},
   "outputs": [
    {
     "data": {
      "text/plain": [
       "Index (Model Type Index)                                                                                      469\n",
       "Eng Displ                                                                                                      42\n",
       "City FE (Guide) - Conventional Fuel                                                                            43\n",
       "Hwy FE (Guide) - Conventional Fuel                                                                             42\n",
       "City Unadj FE - Conventional Fuel                                                                             643\n",
       "Hwy Unadj FE - Conventional Fuel                                                                              696\n",
       "Comb Unadj FE - Conventional Fuel                                                                             955\n",
       "City Unrd Adj FE - Conventional Fuel                                                                          677\n",
       "Hwy Unrd Adj FE - Conventional Fuel                                                                           737\n",
       "Comb Unrd Adj FE - Conventional Fuel                                                                          915\n",
       "Max Ethanol % - Gasoline                                                                                        3\n",
       "2Dr Pass Vol                                                                                                   26\n",
       "2Dr Lugg Vol                                                                                                   13\n",
       "4Dr Pass Vol                                                                                                   35\n",
       "4Dr Lugg Vol                                                                                                   22\n",
       "Htchbk Pass Vol                                                                                                20\n",
       "Htchbk Lugg Vol                                                                                                15\n",
       "Annual Fuel1 Cost - Conventional Fuel                                                                          43\n",
       "EPA Calculated Annual Fuel Cost - Conventional Fuel -----  Annual fuel cost error. Please revise Verify.       43\n",
       "City2 FE (Guide) - Alternative Fuel                                                                             9\n",
       "Hwy2 Fuel FE (Guide) - Alternative Fuel                                                                        13\n",
       "Comb2 Fuel FE (Guide) - Alternative Fuel                                                                       11\n",
       "City2 Unadj FE - Alternative Fuel                                                                              45\n",
       "Hwy2 Unadj FE - Alternative Fuel                                                                               46\n",
       "Comb2 Unadj FE - Alternative Fuel                                                                              46\n",
       "City2 Unrd Adj FE - Alternative Fuel                                                                           46\n",
       "Hwy2 Unrd Adj FE - Alternative Fuel                                                                            46\n",
       "Cmb2 Unrd Adj FE - Alternative Fuel                                                                            46\n",
       "Fuel2 Annual Fuel Cost - Alternative Fuel                                                                      11\n",
       "City CO2 Rounded Adjusted - Fuel2                                                                              41\n",
       "Hwy CO2 Rounded Adjusted - Fuel2                                                                               39\n",
       "Comb CO2 Rounded Adjusted - Fuel2                                                                              37\n",
       "Fuel2 EPA Calculated Annual Fuel Cost - Alternative Fuel                                                       11\n",
       "EPA FE Label Dataset ID                                                                                      1208\n",
       "# Batteries                                                                                                     1\n",
       "Total Voltage for Battery Pack(s)                                                                              14\n",
       "Batt Energy Capacity (Amp-hrs)                                                                                  8\n",
       "Batt Specific Energy (Watt-hr/kg)                                                                              12\n",
       "# Drive Motor Gen                                                                                               3\n",
       "MFR Calculated Gas Guzzler MPG                                                                                288\n",
       "GHG 1-10 rating on Ethanol (EPA Determined)                                                                     6\n",
       "#2 Mfr Smog Rating (Mfr Smog 1-10 Rating on Label for Test Group 2)                                             5\n",
       "$ You Save over 5 years (amount saved in fuel costs over 5 years - on label)                                   16\n",
       "$ You Spend over 5 years (increased amount spent in fuel costs over 5 years - on label)                        27\n",
       "City CO2 Rounded Adjusted                                                                                     379\n",
       "Hwy CO2 Rounded Adjusted                                                                                      273\n",
       "Comb CO2 Rounded Adjusted (as shown on FE Label)                                                              337\n",
       "dtype: int64"
      ]
     },
     "execution_count": 11,
     "metadata": {},
     "output_type": "execute_result"
    }
   ],
   "source": [
    "grr.nunique()"
   ]
  },
  {
   "cell_type": "code",
   "execution_count": 12,
   "metadata": {},
   "outputs": [
    {
     "data": {
      "text/plain": [
       "Index(['# Batteries', '# Drive Motor Gen',\n",
       "       '#2 Mfr Smog Rating (Mfr Smog 1-10 Rating on Label for Test Group 2)',\n",
       "       '$ You Save over 5 years (amount saved in fuel costs over 5 years - on label) ',\n",
       "       '$ You Spend over 5 years (increased amount spent in fuel costs over 5 years - on label) ',\n",
       "       '2Dr Lugg Vol', '2Dr Pass Vol', '4Dr Lugg Vol', '4Dr Pass Vol',\n",
       "       'Annual Fuel1 Cost - Conventional Fuel',\n",
       "       'Batt Energy Capacity (Amp-hrs)', 'Batt Specific Energy (Watt-hr/kg)',\n",
       "       'City CO2 Rounded Adjusted', 'City CO2 Rounded Adjusted - Fuel2',\n",
       "       'City FE (Guide) - Conventional Fuel',\n",
       "       'City Unadj FE - Conventional Fuel',\n",
       "       'City Unrd Adj FE - Conventional Fuel',\n",
       "       'City2 FE (Guide) - Alternative Fuel',\n",
       "       'City2 Unadj FE - Alternative Fuel',\n",
       "       'City2 Unrd Adj FE - Alternative Fuel',\n",
       "       'Cmb2 Unrd Adj FE - Alternative Fuel',\n",
       "       'Comb CO2 Rounded Adjusted (as shown on FE Label)',\n",
       "       'Comb CO2 Rounded Adjusted - Fuel2',\n",
       "       'Comb Unadj FE - Conventional Fuel',\n",
       "       'Comb Unrd Adj FE - Conventional Fuel',\n",
       "       'Comb2 Fuel FE (Guide) - Alternative Fuel',\n",
       "       'Comb2 Unadj FE - Alternative Fuel',\n",
       "       'EPA Calculated Annual Fuel Cost - Conventional Fuel -----  Annual fuel cost error. Please revise Verify. ',\n",
       "       'EPA FE Label Dataset ID', 'Eng Displ',\n",
       "       'Fuel2 Annual Fuel Cost - Alternative Fuel',\n",
       "       'Fuel2 EPA Calculated Annual Fuel Cost - Alternative Fuel',\n",
       "       'GHG 1-10 rating on Ethanol (EPA Determined)', 'Htchbk Lugg Vol',\n",
       "       'Htchbk Pass Vol', 'Hwy CO2 Rounded Adjusted',\n",
       "       'Hwy CO2 Rounded Adjusted - Fuel2',\n",
       "       'Hwy FE (Guide) - Conventional Fuel',\n",
       "       'Hwy Unadj FE - Conventional Fuel',\n",
       "       'Hwy Unrd Adj FE - Conventional Fuel',\n",
       "       'Hwy2 Fuel FE (Guide) - Alternative Fuel',\n",
       "       'Hwy2 Unadj FE - Alternative Fuel',\n",
       "       'Hwy2 Unrd Adj FE - Alternative Fuel', 'Index (Model Type Index)',\n",
       "       'MFR Calculated Gas Guzzler MPG ', 'Max Ethanol % - Gasoline',\n",
       "       'Total Voltage for Battery Pack(s)'],\n",
       "      dtype='object')"
      ]
     },
     "execution_count": 12,
     "metadata": {},
     "output_type": "execute_result"
    }
   ],
   "source": [
    "types.index[types.continuous]"
   ]
  },
  {
   "cell_type": "code",
   "execution_count": 13,
   "metadata": {},
   "outputs": [
    {
     "data": {
      "image/png": "[encoded data removed]",
      "text/plain": [
       "<Figure size 1440x360 with 10 Axes>"
      ]
     },
     "metadata": {},
     "output_type": "display_data"
    }
   ],
   "source": [
    "from sklearn.impute import SimpleImputer\n",
    "from sklearn.feature_selection import f_regression\n",
    "import numpy as np\n",
    "import matplotlib.pyplot as plt\n",
    "% matplotlib inline\n",
    "plt.rcParams['figure.constrained_layout.use'] = False\n",
    "\n",
    "def _shortname(some_string):\n",
    "    if len(some_string) > 20:\n",
    "        return some_string[:17] + \"...\"\n",
    "    else:\n",
    "        return some_string\n",
    "\n",
    "X = cars.loc[:, types.continuous]\n",
    "target = 'Comb Unadj FE - Conventional Fuel'\n",
    "features = X.drop(target, axis=1)\n",
    "target = X[target]\n",
    "\n",
    "if X.shape[1] > 20:\n",
    "    # too many features, show just top 10\n",
    "    show_top = 10\n",
    "else:\n",
    "    show_top = X.shape[1]\n",
    "# Several weird things: why are constant columns in features?\n",
    "# why does simple imputer drop columns\n",
    "# why are nan columns important?\n",
    "features_imp = SimpleImputer().fit_transform(features)\n",
    "f, p = f_regression(features_imp, target)\n",
    "top_k = np.argsort(f)[-show_top:]\n",
    "# we could do better lol\n",
    "n_cols = 5\n",
    "fig, axes = plt.subplots(int(np.ceil(show_top / n_cols)), n_cols, figsize=(20, 5))\n",
    "for col, ax in zip(top_k, axes.ravel()):\n",
    "    ax.plot(features.iloc[:, col], target, 'o', alpha=.6)\n",
    "    ax.set_title(\"{}, {:.2f}\".format(_shortname(features.columns[col]), f[col]))\n"
   ]
  },
  {
   "cell_type": "code",
   "execution_count": 7,
   "metadata": {},
   "outputs": [
    {
     "data": {
      "text/plain": [
       "array([10, 13, 14, 11, 32, 15, 39, 34, 36, 38, 29, 28, 27, 31, 30, 19, 18,\n",
       "       25, 22, 24, 21, 20, 26, 23, 33,  9, 35, 12,  0, 40, 41,  1, 43, 17,\n",
       "       16, 37, 42, 44,  3,  7,  5,  2,  4,  6,  8])"
      ]
     },
     "execution_count": 7,
     "metadata": {},
     "output_type": "execute_result"
    }
   ],
   "source": [
    "np.argsort(f)"
   ]
  },
  {
   "cell_type": "code",
   "execution_count": 8,
   "metadata": {},
   "outputs": [
    {
     "data": {
      "text/plain": [
       "array([44,  2,  3,  4,  5,  6,  7,  8, 42, 37, 43, 17, 16,  1, 41, 40,  0,\n",
       "       12, 35,  9, 33, 23, 26, 20, 21, 24, 22, 25, 18, 19, 30, 31, 27, 28,\n",
       "       29, 38, 36, 34, 39, 15, 32, 11, 14, 13, 10])"
      ]
     },
     "execution_count": 8,
     "metadata": {},
     "output_type": "execute_result"
    }
   ],
   "source": [
    "np.argsort(p)"
   ]
  },
  {
   "cell_type": "code",
   "execution_count": 9,
   "metadata": {},
   "outputs": [
    {
     "data": {
      "text/plain": [
       "array([0.00000000e+000, 0.00000000e+000, 0.00000000e+000, 0.00000000e+000,\n",
       "       0.00000000e+000, 0.00000000e+000, 0.00000000e+000, 0.00000000e+000,\n",
       "       0.00000000e+000, 0.00000000e+000, 0.00000000e+000, 0.00000000e+000,\n",
       "       0.00000000e+000, 2.14268906e-209, 2.51593458e-076, 7.47517743e-042,\n",
       "       7.01490266e-018, 2.72100942e-015, 1.04419080e-007, 5.63036910e-005,\n",
       "       9.06207177e-004, 1.20109349e-003, 1.22121397e-003, 1.24116609e-003,\n",
       "       1.42204637e-003, 1.46310342e-003, 1.50301902e-003, 1.51858970e-003,\n",
       "       1.57630651e-003, 1.59405934e-003, 1.62963711e-003, 1.70230419e-003,\n",
       "       1.70230419e-003, 1.76498627e-003, 2.02560288e-003, 2.48382660e-003,\n",
       "       2.79483791e-003, 2.93060293e-003, 4.24458889e-003, 1.33435428e-002,\n",
       "       5.65884893e-001, 6.84267581e-001, 7.45886217e-001, 7.92762452e-001,\n",
       "       8.66329403e-001])"
      ]
     },
     "execution_count": 9,
     "metadata": {},
     "output_type": "execute_result"
    }
   ],
   "source": [
    "np.sort(p)"
   ]
  },
  {
   "cell_type": "code",
   "execution_count": 10,
   "metadata": {},
   "outputs": [
    {
     "data": {
      "text/plain": [
       "array([2.83446193e-02, 6.90550895e-02, 1.05068483e-01, 1.65441359e-01,\n",
       "       3.29798440e-01, 6.14110398e+00, 8.20729074e+00, 8.88642577e+00,\n",
       "       8.97371286e+00, 9.19110868e+00, 9.56789116e+00, 9.82302546e+00,\n",
       "       9.89009961e+00, 9.89009961e+00, 9.97106863e+00, 1.00120569e+01,\n",
       "       1.00328580e+01, 1.01021655e+01, 1.01213210e+01, 1.01713609e+01,\n",
       "       1.02242974e+01, 1.04776102e+01, 1.05078166e+01, 1.05387886e+01,\n",
       "       1.10650335e+01, 1.63395073e+01, 2.86366905e+01, 6.41314384e+01,\n",
       "       7.65758702e+01, 1.98537854e+02, 3.95413124e+02, 1.45410027e+03,\n",
       "       3.96360853e+03, 4.32824109e+03, 4.32824109e+03, 4.52513366e+03,\n",
       "       6.54718944e+03, 6.56524149e+03, 1.27415628e+04, 1.32842243e+04,\n",
       "       1.40533230e+04, 4.66661892e+04, 4.91084169e+04, 5.33243179e+04,\n",
       "       1.78418443e+05])"
      ]
     },
     "execution_count": 10,
     "metadata": {},
     "output_type": "execute_result"
    }
   ],
   "source": [
    "np.sort(f)"
   ]
  },
  {
   "cell_type": "code",
   "execution_count": 28,
   "metadata": {},
   "outputs": [
    {
     "data": {
      "text/plain": [
       "array([420., 317., 531., ..., 614., 365., 394.])"
      ]
     },
     "execution_count": 28,
     "metadata": {},
     "output_type": "execute_result"
    }
   ],
   "source": [
    "features[:, 44]"
   ]
  },
  {
   "cell_type": "code",
   "execution_count": null,
   "metadata": {},
   "outputs": [],
   "source": []
  },
  {
   "cell_type": "code",
   "execution_count": 13,
   "metadata": {},
   "outputs": [
    {
     "data": {
      "text/plain": [
       "continuous      87\n",
       "dirty_float      0\n",
       "low_card_int     7\n",
       "categorical     43\n",
       "date             1\n",
       "free_string      7\n",
       "useless         17\n",
       "dtype: int64"
      ]
     },
     "execution_count": 13,
     "metadata": {},
     "output_type": "execute_result"
    }
   ],
   "source": [
    "types.sum()"
   ]
  },
  {
   "cell_type": "code",
   "execution_count": 24,
   "metadata": {},
   "outputs": [
    {
     "data": {
      "text/plain": [
       "Churn               categorical\n",
       "Contract            categorical\n",
       "Dependents          categorical\n",
       "DeviceProtection    categorical\n",
       "InternetService     categorical\n",
       "MonthlyCharges       continuous\n",
       "MultipleLines       categorical\n",
       "OnlineBackup        categorical\n",
       "OnlineSecurity      categorical\n",
       "PaperlessBilling    categorical\n",
       "Partner             categorical\n",
       "PaymentMethod       categorical\n",
       "PhoneService        categorical\n",
       "SeniorCitizen       categorical\n",
       "StreamingMovies     categorical\n",
       "StreamingTV         categorical\n",
       "TechSupport         categorical\n",
       "TotalCharges        dirty_float\n",
       "customerID          free_string\n",
       "gender              categorical\n",
       "tenure               continuous\n",
       "dtype: object"
      ]
     },
     "execution_count": 24,
     "metadata": {},
     "output_type": "execute_result"
    }
   ],
   "source": [
    "detect_types_dataframe(telco_churn).T.idxmax()"
   ]
  },
  {
   "cell_type": "code",
   "execution_count": 9,
   "metadata": {},
   "outputs": [
    {
     "data": {
      "text/plain": [
       "4046              continuous\n",
       "4225              continuous\n",
       "4770              continuous\n",
       "AveragePrice      continuous\n",
       "Date                    date\n",
       "Large Bags        continuous\n",
       "Small Bags        continuous\n",
       "Total Bags        continuous\n",
       "Total Volume      continuous\n",
       "Unnamed: 0      low_card_int\n",
       "XLarge Bags       continuous\n",
       "region               useless\n",
       "type             categorical\n",
       "year            low_card_int\n",
       "dtype: object"
      ]
     },
     "execution_count": 9,
     "metadata": {},
     "output_type": "execute_result"
    }
   ],
   "source": [
    "detect_types_dataframe(avocado).T.idxmax()"
   ]
  },
  {
   "cell_type": "code",
   "execution_count": 4,
   "metadata": {},
   "outputs": [],
   "source": [
    "from fml.preprocessing import FriendlyPreprocessor"
   ]
  },
  {
   "cell_type": "code",
   "execution_count": 5,
   "metadata": {},
   "outputs": [],
   "source": [
    "# sp = FriendlyPreprocessor(verbose=10)\n",
    "# sp.fit(avocado)"
   ]
  },
  {
   "cell_type": "code",
   "execution_count": 6,
   "metadata": {},
   "outputs": [],
   "source": [
    "y = telco_churn.Churn\n",
    "X = telco_churn.drop(\"Churn\", axis=1)"
   ]
  },
  {
   "cell_type": "code",
   "execution_count": 7,
   "metadata": {},
   "outputs": [
    {
     "data": {
      "text/plain": [
       "No     0.73463\n",
       "Yes    0.26537\n",
       "Name: Churn, dtype: float64"
      ]
     },
     "execution_count": 7,
     "metadata": {},
     "output_type": "execute_result"
    }
   ],
   "source": [
    "y.value_counts() / y.size"
   ]
  },
  {
   "cell_type": "code",
   "execution_count": 8,
   "metadata": {},
   "outputs": [],
   "source": [
    "from fml.models import FriendlyClassifier"
   ]
  },
  {
   "cell_type": "code",
   "execution_count": 9,
   "metadata": {},
   "outputs": [
    {
     "name": "stdout",
     "output_type": "stream",
     "text": [
      "Detected feature types:\n",
      "1 float, 2 int, 17 object, 0 date, 0 other\n",
      "Interpreted as:\n",
      "3 continuous, 15 categorical, 0 date, 1 dirty float, 1 dropped\n",
      "DummyClassifier(strategy='prior')\n",
      "accuracy: 0.7346    average_precision: 0.2654    recall_macro: 0.5000    roc_auc: 0.5000    \n",
      "new best: 0.5000\n",
      "GaussianNB()\n",
      "accuracy: 0.6320    average_precision: 0.6081    recall_macro: 0.7169    roc_auc: 0.8182    \n",
      "new best: 0.7169\n",
      "MultinomialNB()\n",
      "accuracy: 0.7177    average_precision: 0.6067    recall_macro: 0.7481    roc_auc: 0.8174    \n",
      "new best: 0.7481\n",
      "DecisionTreeClassifier(class_weight='balanced', max_depth=1)\n",
      "accuracy: 0.6544    average_precision: 0.4087    recall_macro: 0.7282    roc_auc: 0.7282    \n",
      "DecisionTreeClassifier(class_weight='balanced', max_depth=5)\n",
      "accuracy: 0.7238    average_precision: 0.6105    recall_macro: 0.7510    roc_auc: 0.8293    \n",
      "new best: 0.7510\n",
      "DecisionTreeClassifier(class_weight='balanced', min_impurity_decrease=0.01)\n",
      "accuracy: 0.7233    average_precision: 0.4837    recall_macro: 0.7440    roc_auc: 0.7804    \n",
      "LogisticRegression(C=0.1, class_weight='balanced', solver='lbfgs')\n",
      "accuracy: 0.7468    average_precision: 0.6542    recall_macro: 0.7628    roc_auc: 0.8448    \n",
      "new best: 0.7628\n"
     ]
    }
   ],
   "source": [
    "# %%prun -s cumulative -l 100 -D test.prof\n",
    "fc = FriendlyClassifier().fit(X, y)"
   ]
  },
  {
   "cell_type": "code",
   "execution_count": 9,
   "metadata": {},
   "outputs": [],
   "source": [
    "adult = pd.read_csv(\"http://github.com/amueller/ml-training-advanced/raw/master/notebooks/data/adult.csv\")"
   ]
  },
  {
   "cell_type": "code",
   "execution_count": 10,
   "metadata": {},
   "outputs": [],
   "source": [
    "# from sklearn.datasets import fetch_openml\n",
    "# adult = fetch_openml(\"adult-census\")\n",
    "# adult_df = pd.DataFrame(adult.data, columns=adult.feature_names)"
   ]
  },
  {
   "cell_type": "code",
   "execution_count": 11,
   "metadata": {},
   "outputs": [],
   "source": [
    "y = adult.income\n",
    "X = adult.drop(\"income\", axis=1)"
   ]
  },
  {
   "cell_type": "code",
   "execution_count": 12,
   "metadata": {},
   "outputs": [
    {
     "data": {
      "text/plain": [
       "Index(['Unnamed: 0', 'age', 'workclass', 'education', 'education-num',\n",
       "       'marital-status', 'occupation', 'relationship', 'race', 'gender',\n",
       "       'capital-gain', 'capital-loss', 'hours-per-week', 'native-country'],\n",
       "      dtype='object')"
      ]
     },
     "execution_count": 12,
     "metadata": {},
     "output_type": "execute_result"
    }
   ],
   "source": [
    "X.columns"
   ]
  },
  {
   "cell_type": "code",
   "execution_count": 17,
   "metadata": {},
   "outputs": [
    {
     "data": {
      "text/plain": [
       "(32561, 14)"
      ]
     },
     "execution_count": 17,
     "metadata": {},
     "output_type": "execute_result"
    }
   ],
   "source": [
    "X.shape"
   ]
  },
  {
   "cell_type": "code",
   "execution_count": 20,
   "metadata": {},
   "outputs": [
    {
     "data": {
      "text/html": [
       "<div>\n",
       "<style scoped>\n",
       "    .dataframe tbody tr th:only-of-type {\n",
       "        vertical-align: middle;\n",
       "    }\n",
       "\n",
       "    .dataframe tbody tr th {\n",
       "        vertical-align: top;\n",
       "    }\n",
       "\n",
       "    .dataframe thead th {\n",
       "        text-align: right;\n",
       "    }\n",
       "</style>\n",
       "<table border=\"1\" class=\"dataframe\">\n",
       "  <thead>\n",
       "    <tr style=\"text-align: right;\">\n",
       "      <th></th>\n",
       "      <th>continuous</th>\n",
       "      <th>categorical</th>\n",
       "      <th>date</th>\n",
       "      <th>dirty_float</th>\n",
       "      <th>useless</th>\n",
       "    </tr>\n",
       "  </thead>\n",
       "  <tbody>\n",
       "    <tr>\n",
       "      <th>Unnamed: 0</th>\n",
       "      <td>True</td>\n",
       "      <td>False</td>\n",
       "      <td>False</td>\n",
       "      <td>False</td>\n",
       "      <td>False</td>\n",
       "    </tr>\n",
       "    <tr>\n",
       "      <th>age</th>\n",
       "      <td>True</td>\n",
       "      <td>True</td>\n",
       "      <td>False</td>\n",
       "      <td>False</td>\n",
       "      <td>False</td>\n",
       "    </tr>\n",
       "    <tr>\n",
       "      <th>capital-gain</th>\n",
       "      <td>True</td>\n",
       "      <td>True</td>\n",
       "      <td>False</td>\n",
       "      <td>False</td>\n",
       "      <td>False</td>\n",
       "    </tr>\n",
       "    <tr>\n",
       "      <th>capital-loss</th>\n",
       "      <td>True</td>\n",
       "      <td>True</td>\n",
       "      <td>False</td>\n",
       "      <td>False</td>\n",
       "      <td>False</td>\n",
       "    </tr>\n",
       "    <tr>\n",
       "      <th>education</th>\n",
       "      <td>False</td>\n",
       "      <td>True</td>\n",
       "      <td>False</td>\n",
       "      <td>False</td>\n",
       "      <td>False</td>\n",
       "    </tr>\n",
       "    <tr>\n",
       "      <th>education-num</th>\n",
       "      <td>True</td>\n",
       "      <td>True</td>\n",
       "      <td>False</td>\n",
       "      <td>False</td>\n",
       "      <td>False</td>\n",
       "    </tr>\n",
       "    <tr>\n",
       "      <th>gender</th>\n",
       "      <td>False</td>\n",
       "      <td>True</td>\n",
       "      <td>False</td>\n",
       "      <td>False</td>\n",
       "      <td>False</td>\n",
       "    </tr>\n",
       "    <tr>\n",
       "      <th>hours-per-week</th>\n",
       "      <td>True</td>\n",
       "      <td>True</td>\n",
       "      <td>False</td>\n",
       "      <td>False</td>\n",
       "      <td>False</td>\n",
       "    </tr>\n",
       "    <tr>\n",
       "      <th>marital-status</th>\n",
       "      <td>False</td>\n",
       "      <td>True</td>\n",
       "      <td>False</td>\n",
       "      <td>False</td>\n",
       "      <td>False</td>\n",
       "    </tr>\n",
       "    <tr>\n",
       "      <th>native-country</th>\n",
       "      <td>False</td>\n",
       "      <td>True</td>\n",
       "      <td>False</td>\n",
       "      <td>False</td>\n",
       "      <td>False</td>\n",
       "    </tr>\n",
       "    <tr>\n",
       "      <th>occupation</th>\n",
       "      <td>False</td>\n",
       "      <td>True</td>\n",
       "      <td>False</td>\n",
       "      <td>False</td>\n",
       "      <td>False</td>\n",
       "    </tr>\n",
       "    <tr>\n",
       "      <th>race</th>\n",
       "      <td>False</td>\n",
       "      <td>True</td>\n",
       "      <td>False</td>\n",
       "      <td>False</td>\n",
       "      <td>False</td>\n",
       "    </tr>\n",
       "    <tr>\n",
       "      <th>relationship</th>\n",
       "      <td>False</td>\n",
       "      <td>True</td>\n",
       "      <td>False</td>\n",
       "      <td>False</td>\n",
       "      <td>False</td>\n",
       "    </tr>\n",
       "    <tr>\n",
       "      <th>workclass</th>\n",
       "      <td>False</td>\n",
       "      <td>True</td>\n",
       "      <td>False</td>\n",
       "      <td>False</td>\n",
       "      <td>False</td>\n",
       "    </tr>\n",
       "  </tbody>\n",
       "</table>\n",
       "</div>"
      ],
      "text/plain": [
       "                continuous  categorical   date  dirty_float  useless\n",
       "Unnamed: 0            True        False  False        False    False\n",
       "age                   True         True  False        False    False\n",
       "capital-gain          True         True  False        False    False\n",
       "capital-loss          True         True  False        False    False\n",
       "education            False         True  False        False    False\n",
       "education-num         True         True  False        False    False\n",
       "gender               False         True  False        False    False\n",
       "hours-per-week        True         True  False        False    False\n",
       "marital-status       False         True  False        False    False\n",
       "native-country       False         True  False        False    False\n",
       "occupation           False         True  False        False    False\n",
       "race                 False         True  False        False    False\n",
       "relationship         False         True  False        False    False\n",
       "workclass            False         True  False        False    False"
      ]
     },
     "execution_count": 20,
     "metadata": {},
     "output_type": "execute_result"
    }
   ],
   "source": [
    "from fml.preprocessing import detect_types_dataframe\n",
    "detect_types_dataframe(X)"
   ]
  },
  {
   "cell_type": "code",
   "execution_count": 21,
   "metadata": {},
   "outputs": [
    {
     "data": {
      "text/plain": [
       "Unnamed: 0        32561\n",
       "age                  73\n",
       "workclass             9\n",
       "education            16\n",
       "education-num        16\n",
       "marital-status        7\n",
       "occupation           15\n",
       "relationship          6\n",
       "race                  5\n",
       "gender                2\n",
       "capital-gain        119\n",
       "capital-loss         92\n",
       "hours-per-week       94\n",
       "native-country       42\n",
       "dtype: int64"
      ]
     },
     "execution_count": 21,
     "metadata": {},
     "output_type": "execute_result"
    }
   ],
   "source": [
    "n_values = X.apply(lambda x: x.nunique())\n",
    "n_values"
   ]
  },
  {
   "cell_type": "code",
   "execution_count": 22,
   "metadata": {},
   "outputs": [
    {
     "name": "stdout",
     "output_type": "stream",
     "text": [
      "Detected feature types:\n",
      "0 float, 6 int, 8 object, 0 date, 0 other\n",
      "Interpreted as:\n",
      "6 continuous, 13 categorical, 0 date, 0 dirty float, 0 dropped\n",
      "DummyClassifier(strategy='prior')\n",
      "accuracy: 0.7592    average_precision: 0.2408    recall_macro: 0.5000    roc_auc: 0.5000    \n",
      "new best: 0.5000\n"
     ]
    },
    {
     "ename": "TypeError",
     "evalue": "A sparse matrix was passed, but dense data is required. Use X.toarray() to convert to a dense numpy array.",
     "output_type": "error",
     "traceback": [
      "\u001b[0;31m---------------------------------------------------------------------------\u001b[0m",
      "\u001b[0;31mTypeError\u001b[0m                                 Traceback (most recent call last)",
      "\u001b[0;32m<ipython-input-22-fb60361265ea>\u001b[0m in \u001b[0;36m<module>\u001b[0;34m()\u001b[0m\n\u001b[0;32m----> 1\u001b[0;31m \u001b[0mfc\u001b[0m \u001b[0;34m=\u001b[0m \u001b[0mFriendlyClassifier\u001b[0m\u001b[0;34m(\u001b[0m\u001b[0;34m)\u001b[0m\u001b[0;34m.\u001b[0m\u001b[0mfit\u001b[0m\u001b[0;34m(\u001b[0m\u001b[0mX\u001b[0m\u001b[0;34m,\u001b[0m \u001b[0my\u001b[0m\u001b[0;34m)\u001b[0m\u001b[0;34m\u001b[0m\u001b[0m\n\u001b[0m",
      "\u001b[0;32m~/checkout/fml/fml/models.py\u001b[0m in \u001b[0;36mfit\u001b[0;34m(self, X, y)\u001b[0m\n\u001b[1;32m     87\u001b[0m         \u001b[0mself\u001b[0m\u001b[0;34m.\u001b[0m\u001b[0mcurrent_best_\u001b[0m \u001b[0;34m=\u001b[0m \u001b[0;34m-\u001b[0m\u001b[0mnp\u001b[0m\u001b[0;34m.\u001b[0m\u001b[0minf\u001b[0m\u001b[0;34m\u001b[0m\u001b[0m\n\u001b[1;32m     88\u001b[0m         \u001b[0;32mfor\u001b[0m \u001b[0mest\u001b[0m \u001b[0;32min\u001b[0m \u001b[0mfast_ests\u001b[0m\u001b[0;34m:\u001b[0m\u001b[0;34m\u001b[0m\u001b[0m\n\u001b[0;32m---> 89\u001b[0;31m             \u001b[0mscores\u001b[0m \u001b[0;34m=\u001b[0m \u001b[0mself\u001b[0m\u001b[0;34m.\u001b[0m\u001b[0m_evaluate_one\u001b[0m\u001b[0;34m(\u001b[0m\u001b[0mest\u001b[0m\u001b[0;34m,\u001b[0m \u001b[0mdata_preproc\u001b[0m\u001b[0;34m,\u001b[0m \u001b[0mscorers\u001b[0m\u001b[0;34m)\u001b[0m\u001b[0;34m\u001b[0m\u001b[0m\n\u001b[0m\u001b[1;32m     90\u001b[0m             \u001b[0;31m# make scoring configurable\u001b[0m\u001b[0;34m\u001b[0m\u001b[0;34m\u001b[0m\u001b[0m\n\u001b[1;32m     91\u001b[0m             \u001b[0mthis_score\u001b[0m \u001b[0;34m=\u001b[0m \u001b[0mscores\u001b[0m\u001b[0;34m[\u001b[0m\u001b[0;34m'recall_macro'\u001b[0m\u001b[0;34m]\u001b[0m\u001b[0;34m\u001b[0m\u001b[0m\n",
      "\u001b[0;32m~/checkout/fml/fml/models.py\u001b[0m in \u001b[0;36m_evaluate_one\u001b[0;34m(self, estimator, data_preproc, scorers)\u001b[0m\n\u001b[1;32m    107\u001b[0m         \u001b[0;32mfor\u001b[0m \u001b[0mX_train\u001b[0m\u001b[0;34m,\u001b[0m \u001b[0mX_test\u001b[0m\u001b[0;34m,\u001b[0m \u001b[0my_train\u001b[0m\u001b[0;34m,\u001b[0m \u001b[0my_test\u001b[0m \u001b[0;32min\u001b[0m \u001b[0mdata_preproc\u001b[0m\u001b[0;34m:\u001b[0m\u001b[0;34m\u001b[0m\u001b[0m\n\u001b[1;32m    108\u001b[0m             \u001b[0mest\u001b[0m \u001b[0;34m=\u001b[0m \u001b[0mclone\u001b[0m\u001b[0;34m(\u001b[0m\u001b[0mestimator\u001b[0m\u001b[0;34m)\u001b[0m\u001b[0;34m\u001b[0m\u001b[0m\n\u001b[0;32m--> 109\u001b[0;31m             \u001b[0mest\u001b[0m\u001b[0;34m.\u001b[0m\u001b[0mfit\u001b[0m\u001b[0;34m(\u001b[0m\u001b[0mX_train\u001b[0m\u001b[0;34m,\u001b[0m \u001b[0my_train\u001b[0m\u001b[0;34m)\u001b[0m\u001b[0;34m\u001b[0m\u001b[0m\n\u001b[0m\u001b[1;32m    110\u001b[0m             \u001b[0;31m# fit_time = time.time() - start_time\u001b[0m\u001b[0;34m\u001b[0m\u001b[0;34m\u001b[0m\u001b[0m\n\u001b[1;32m    111\u001b[0m             \u001b[0;31m# _score will return dict if is_multimetric is True\u001b[0m\u001b[0;34m\u001b[0m\u001b[0;34m\u001b[0m\u001b[0m\n",
      "\u001b[0;32m~/checkout/scikit-learn/sklearn/naive_bayes.py\u001b[0m in \u001b[0;36mfit\u001b[0;34m(self, X, y, sample_weight)\u001b[0m\n\u001b[1;32m    188\u001b[0m         \u001b[0mself\u001b[0m \u001b[0;34m:\u001b[0m \u001b[0mobject\u001b[0m\u001b[0;34m\u001b[0m\u001b[0m\n\u001b[1;32m    189\u001b[0m         \"\"\"\n\u001b[0;32m--> 190\u001b[0;31m         \u001b[0mX\u001b[0m\u001b[0;34m,\u001b[0m \u001b[0my\u001b[0m \u001b[0;34m=\u001b[0m \u001b[0mcheck_X_y\u001b[0m\u001b[0;34m(\u001b[0m\u001b[0mX\u001b[0m\u001b[0;34m,\u001b[0m \u001b[0my\u001b[0m\u001b[0;34m)\u001b[0m\u001b[0;34m\u001b[0m\u001b[0m\n\u001b[0m\u001b[1;32m    191\u001b[0m         return self._partial_fit(X, y, np.unique(y), _refit=True,\n\u001b[1;32m    192\u001b[0m                                  sample_weight=sample_weight)\n",
      "\u001b[0;32m~/checkout/scikit-learn/sklearn/utils/validation.py\u001b[0m in \u001b[0;36mcheck_X_y\u001b[0;34m(X, y, accept_sparse, accept_large_sparse, dtype, order, copy, force_all_finite, ensure_2d, allow_nd, multi_output, ensure_min_samples, ensure_min_features, y_numeric, warn_on_dtype, estimator)\u001b[0m\n\u001b[1;32m    748\u001b[0m                     \u001b[0mensure_min_features\u001b[0m\u001b[0;34m=\u001b[0m\u001b[0mensure_min_features\u001b[0m\u001b[0;34m,\u001b[0m\u001b[0;34m\u001b[0m\u001b[0m\n\u001b[1;32m    749\u001b[0m                     \u001b[0mwarn_on_dtype\u001b[0m\u001b[0;34m=\u001b[0m\u001b[0mwarn_on_dtype\u001b[0m\u001b[0;34m,\u001b[0m\u001b[0;34m\u001b[0m\u001b[0m\n\u001b[0;32m--> 750\u001b[0;31m                     estimator=estimator)\n\u001b[0m\u001b[1;32m    751\u001b[0m     \u001b[0;32mif\u001b[0m \u001b[0mmulti_output\u001b[0m\u001b[0;34m:\u001b[0m\u001b[0;34m\u001b[0m\u001b[0m\n\u001b[1;32m    752\u001b[0m         y = check_array(y, 'csr', force_all_finite=True, ensure_2d=False,\n",
      "\u001b[0;32m~/checkout/scikit-learn/sklearn/utils/validation.py\u001b[0m in \u001b[0;36mcheck_array\u001b[0;34m(array, accept_sparse, accept_large_sparse, dtype, order, copy, force_all_finite, ensure_2d, allow_nd, ensure_min_samples, ensure_min_features, warn_on_dtype, estimator)\u001b[0m\n\u001b[1;32m    510\u001b[0m                                       \u001b[0mdtype\u001b[0m\u001b[0;34m=\u001b[0m\u001b[0mdtype\u001b[0m\u001b[0;34m,\u001b[0m \u001b[0mcopy\u001b[0m\u001b[0;34m=\u001b[0m\u001b[0mcopy\u001b[0m\u001b[0;34m,\u001b[0m\u001b[0;34m\u001b[0m\u001b[0m\n\u001b[1;32m    511\u001b[0m                                       \u001b[0mforce_all_finite\u001b[0m\u001b[0;34m=\u001b[0m\u001b[0mforce_all_finite\u001b[0m\u001b[0;34m,\u001b[0m\u001b[0;34m\u001b[0m\u001b[0m\n\u001b[0;32m--> 512\u001b[0;31m                                       accept_large_sparse=accept_large_sparse)\n\u001b[0m\u001b[1;32m    513\u001b[0m     \u001b[0;32melse\u001b[0m\u001b[0;34m:\u001b[0m\u001b[0;34m\u001b[0m\u001b[0m\n\u001b[1;32m    514\u001b[0m         \u001b[0;31m# If np.array(..) gives ComplexWarning, then we convert the warning\u001b[0m\u001b[0;34m\u001b[0m\u001b[0;34m\u001b[0m\u001b[0m\n",
      "\u001b[0;32m~/checkout/scikit-learn/sklearn/utils/validation.py\u001b[0m in \u001b[0;36m_ensure_sparse_format\u001b[0;34m(spmatrix, accept_sparse, dtype, copy, force_all_finite, accept_large_sparse)\u001b[0m\n\u001b[1;32m    311\u001b[0m \u001b[0;34m\u001b[0m\u001b[0m\n\u001b[1;32m    312\u001b[0m     \u001b[0;32mif\u001b[0m \u001b[0maccept_sparse\u001b[0m \u001b[0;32mis\u001b[0m \u001b[0;32mFalse\u001b[0m\u001b[0;34m:\u001b[0m\u001b[0;34m\u001b[0m\u001b[0m\n\u001b[0;32m--> 313\u001b[0;31m         raise TypeError('A sparse matrix was passed, but dense '\n\u001b[0m\u001b[1;32m    314\u001b[0m                         \u001b[0;34m'data is required. Use X.toarray() to '\u001b[0m\u001b[0;34m\u001b[0m\u001b[0m\n\u001b[1;32m    315\u001b[0m                         'convert to a dense numpy array.')\n",
      "\u001b[0;31mTypeError\u001b[0m: A sparse matrix was passed, but dense data is required. Use X.toarray() to convert to a dense numpy array."
     ]
    }
   ],
   "source": [
    "fc = FriendlyClassifier().fit(X, y)"
   ]
  },
  {
   "cell_type": "code",
   "execution_count": null,
   "metadata": {},
   "outputs": [],
   "source": [
    "from fml.preprocessing import detect_types_dataframe"
   ]
  },
  {
   "cell_type": "code",
   "execution_count": null,
   "metadata": {},
   "outputs": [],
   "source": []
  },
  {
   "cell_type": "code",
   "execution_count": null,
   "metadata": {},
   "outputs": [],
   "source": [
    "asdf = detect_types_dataframe(X, verbose=10)"
   ]
  },
  {
   "cell_type": "code",
   "execution_count": 16,
   "metadata": {},
   "outputs": [
    {
     "data": {
      "text/plain": [
       "Contract             True\n",
       "Dependents           True\n",
       "DeviceProtection     True\n",
       "InternetService      True\n",
       "MonthlyCharges      False\n",
       "MultipleLines        True\n",
       "OnlineBackup         True\n",
       "OnlineSecurity       True\n",
       "PaperlessBilling     True\n",
       "Partner              True\n",
       "PaymentMethod        True\n",
       "PhoneService         True\n",
       "SeniorCitizen       False\n",
       "StreamingMovies      True\n",
       "StreamingTV          True\n",
       "TechSupport          True\n",
       "TotalCharges        False\n",
       "customerID          False\n",
       "gender               True\n",
       "tenure               True\n",
       "Name: categorical, dtype: bool"
      ]
     },
     "execution_count": 16,
     "metadata": {},
     "output_type": "execute_result"
    }
   ],
   "source": [
    "asdf.categorical"
   ]
  },
  {
   "cell_type": "code",
   "execution_count": 20,
   "metadata": {},
   "outputs": [
    {
     "data": {
      "text/plain": [
       "'Contract: True Dependents: True DeviceProtection: True InternetService: True MonthlyCharges: False MultipleLines: True OnlineBackup: True OnlineSecurity: True PaperlessBilling: True Partner: True PaymentMethod: True PhoneService: True SeniorCitizen: False StreamingMovies: True StreamingTV: True TechSupport: True TotalCharges: False customerID: False gender: True tenure: True '"
      ]
     },
     "execution_count": 20,
     "metadata": {},
     "output_type": "execute_result"
    }
   ],
   "source": [
    "\"\".join(\"{}: {} \".format(a, b) for a, b in asdf.categorical.items())"
   ]
  },
  {
   "cell_type": "code",
   "execution_count": 15,
   "metadata": {},
   "outputs": [
    {
     "data": {
      "text/plain": [
       "(7043, 119)"
      ]
     },
     "execution_count": 15,
     "metadata": {},
     "output_type": "execute_result"
    }
   ],
   "source": [
    "X_cleanish.shape"
   ]
  },
  {
   "cell_type": "code",
   "execution_count": 16,
   "metadata": {},
   "outputs": [
    {
     "data": {
      "text/plain": [
       "(7043, 192)"
      ]
     },
     "execution_count": 16,
     "metadata": {},
     "output_type": "execute_result"
    }
   ],
   "source": [
    "fp = FriendlyPreprocessor()\n",
    "fp.fit_transform(X_cleanish).shape"
   ]
  },
  {
   "cell_type": "code",
   "execution_count": 18,
   "metadata": {},
   "outputs": [
    {
     "name": "stdout",
     "output_type": "stream",
     "text": [
      "DummyClassifier(constant=None, random_state=None, strategy='prior')\n",
      "fit_time                   0.004455\n",
      "score_time                 0.010412\n",
      "test_accuracy              0.734630\n",
      "train_accuracy             0.734630\n",
      "test_average_precision     0.265370\n",
      "train_average_precision    0.265370\n",
      "test_roc_auc               0.500000\n",
      "train_roc_auc              0.500000\n",
      "test_precision_macro       0.367315\n",
      "train_precision_macro      0.367315\n",
      "dtype: float64\n",
      "GaussianNB(priors=None, var_smoothing=1e-09)\n",
      "fit_time                   0.098654\n",
      "score_time                 0.050067\n",
      "test_accuracy              0.596049\n",
      "train_accuracy             0.610500\n",
      "test_average_precision     0.420463\n",
      "train_average_precision    0.439988\n",
      "test_roc_auc               0.724284\n",
      "train_roc_auc              0.747796\n",
      "test_precision_macro       0.642855\n",
      "train_precision_macro      0.656280\n",
      "dtype: float64\n",
      "MultinomialNB(alpha=1.0, class_prior=None, fit_prior=True)\n",
      "fit_time                   0.100408\n",
      "score_time                 0.044273\n",
      "test_accuracy              0.739316\n",
      "train_accuracy             0.742865\n",
      "test_average_precision     0.631536\n",
      "train_average_precision    0.639603\n",
      "test_roc_auc               0.825740\n",
      "train_roc_auc              0.831570\n",
      "test_precision_macro       0.705550\n",
      "train_precision_macro      0.709238\n",
      "dtype: float64\n",
      "DecisionTreeClassifier(class_weight='balanced', criterion='gini', max_depth=1,\n",
      "            max_features=None, max_leaf_nodes=None,\n",
      "            min_impurity_decrease=0.0, min_impurity_split=None,\n",
      "            min_samples_leaf=1, min_samples_split=2,\n",
      "            min_weight_fraction_leaf=0.0, presort=False, random_state=None,\n",
      "            splitter='best')\n",
      "fit_time                   0.086498\n",
      "score_time                 0.041465\n",
      "test_accuracy              0.654410\n",
      "train_accuracy             0.654409\n",
      "test_average_precision     0.408651\n",
      "train_average_precision    0.408584\n",
      "test_roc_auc               0.728213\n",
      "train_roc_auc              0.728216\n",
      "test_precision_macro       0.679810\n",
      "train_precision_macro      0.679775\n",
      "dtype: float64\n",
      "DecisionTreeClassifier(class_weight='balanced', criterion='gini', max_depth=5,\n",
      "            max_features=None, max_leaf_nodes=None,\n",
      "            min_impurity_decrease=0.0, min_impurity_split=None,\n",
      "            min_samples_leaf=1, min_samples_split=2,\n",
      "            min_weight_fraction_leaf=0.0, presort=False, random_state=None,\n",
      "            splitter='best')\n",
      "fit_time                   0.109735\n",
      "score_time                 0.040002\n",
      "test_accuracy              0.724546\n",
      "train_accuracy             0.747764\n",
      "test_average_precision     0.605022\n",
      "train_average_precision    0.642543\n",
      "test_roc_auc               0.827966\n",
      "train_roc_auc              0.852527\n",
      "test_precision_macro       0.698869\n",
      "train_precision_macro      0.720309\n",
      "dtype: float64\n",
      " \n",
      "*** Profile stats marshalled to file 'test.prof'. \n"
     ]
    },
    {
     "data": {
      "text/plain": [
       "         1538259 function calls (1514676 primitive calls) in 6.158 seconds\n",
       "\n",
       "   Ordered by: cumulative time\n",
       "   List reduced from 1420 to 100 due to restriction <100>\n",
       "\n",
       "   ncalls  tottime  percall  cumtime  percall filename:lineno(function)\n",
       "        1    0.000    0.000    6.158    6.158 {built-in method builtins.exec}\n",
       "        1    0.000    0.000    6.157    6.157 <string>:2(<module>)\n",
       "        1    0.000    0.000    5.885    5.885 models.py:25(fit)\n",
       "        5    0.000    0.000    5.845    1.169 models.py:65(_evaluate_one)\n",
       "        5    0.000    0.000    5.835    1.167 _validation.py:40(cross_validate)\n",
       "    205/5    0.009    0.000    5.821    1.164 parallel.py:932(__call__)\n",
       "   630/30    0.005    0.000    5.820    0.194 parallel.py:801(dispatch_one_batch)\n",
       "   425/25    0.004    0.000    5.757    0.230 parallel.py:764(_dispatch)\n",
       "   425/25    0.001    0.000    5.757    0.230 _parallel_backends.py:180(apply_async)\n",
       "   425/25    0.001    0.000    5.757    0.230 _parallel_backends.py:542(__init__)\n",
       "   425/25    0.003    0.000    5.757    0.230 parallel.py:258(__call__)\n",
       "   425/25    0.002    0.000    5.756    0.230 parallel.py:260(<listcomp>)\n",
       "       25    0.001    0.000    5.755    0.230 _validation.py:390(_fit_and_score)\n",
       "       50    0.000    0.000    3.756    0.075 _validation.py:582(_score)\n",
       "       50    0.002    0.000    3.756    0.075 _validation.py:611(_multimetric_score)\n",
       "      200    0.002    0.000    2.700    0.014 _column_transformer.py:380(_fit_transform)\n",
       "      160    0.001    0.000    2.306    0.014 metaestimators.py:118(<lambda>)\n",
       "      180    0.002    0.000    2.039    0.011 preprocessing.py:309(transform)\n",
       "      180    0.002    0.000    2.036    0.011 _column_transformer.py:473(transform)\n",
       "       20    0.000    0.000    1.915    0.096 pipeline.py:239(fit)\n",
       "      100    0.002    0.000    1.893    0.019 scorer.py:142(__call__)\n",
       "      100    0.001    0.000    1.860    0.019 scorer.py:67(__call__)\n",
       "    71/26    0.001    0.000    1.461    0.056 base.py:438(fit_transform)\n",
       "    40/20    0.001    0.000    1.439    0.072 pipeline.py:190(_fit)\n",
       "     2152    0.012    0.000    1.439    0.001 arraysetops.py:113(unique)\n",
       "    50/25    0.000    0.000    1.436    0.057 memory.py:328(__call__)\n",
       "    90/25    0.000    0.000    1.436    0.057 pipeline.py:612(_fit_transform_one)\n",
       "     2152    0.077    0.000    1.422    0.001 arraysetops.py:256(_unique1d)\n",
       "      360    0.001    0.000    1.239    0.003 pipeline.py:604(_transform_one)\n",
       "     2188    1.237    0.001    1.237    0.001 {method 'sort' of 'numpy.ndarray' objects}\n",
       "       80    0.001    0.000    1.183    0.015 pipeline.py:364(predict_proba)\n",
       "       80    0.001    0.000    1.123    0.014 pipeline.py:306(predict)\n",
       "       20    0.001    0.000    1.112    0.056 preprocessing.py:239(fit)\n",
       "       20    0.000    0.000    1.091    0.055 _column_transformer.py:400(fit)\n",
       "       20    0.000    0.000    1.091    0.055 _column_transformer.py:423(fit_transform)\n",
       "      200    0.006    0.000    1.004    0.005 impute.py:353(transform)\n",
       "      180    0.002    0.000    0.958    0.005 pipeline.py:447(_transform)\n",
       "     1004    0.022    0.000    0.950    0.001 validation.py:357(check_array)\n",
       "       20    0.000    0.000    0.905    0.045 pipeline.py:270(fit_transform)\n",
       "      796    0.011    0.000    0.814    0.001 multiclass.py:174(type_of_target)\n",
       "       20    0.000    0.000    0.706    0.035 impute.py:210(fit)\n",
       "       20    0.000    0.000    0.639    0.032 impute.py:301(_dense_fit)\n",
       "       20    0.000    0.000    0.628    0.031 extras.py:617(median)\n",
       "       20    0.000    0.000    0.628    0.031 function_base.py:3982(_ureduce)\n",
       "       20    0.002    0.000    0.627    0.031 extras.py:699(_median)\n",
       "      220    0.002    0.000    0.589    0.003 impute.py:171(_validate_input)\n",
       "       20    0.000    0.000    0.584    0.029 core.py:6685(sort)\n",
       "       20    0.001    0.000    0.560    0.028 core.py:5484(sort)\n",
       "      630    0.003    0.000    0.517    0.001 parallel.py:252(__init__)\n",
       "      100    0.001    0.000    0.484    0.005 classification.py:44(_check_targets)\n",
       "       50    0.000    0.000    0.479    0.010 classification.py:1173(precision_score)\n",
       "       50    0.004    0.000    0.479    0.010 classification.py:882(precision_recall_fscore_support)\n",
       "      600    0.002    0.000    0.453    0.001 _column_transformer.py:390(<genexpr>)\n",
       "     7796    0.451    0.000    0.451    0.000 {method 'reduce' of 'numpy.ufunc' objects}\n",
       "      510    0.003    0.000    0.427    0.001 indexing.py:1463(__getitem__)\n",
       "29606/27648    0.209    0.000    0.387    0.000 {built-in method numpy.core.multiarray.array}\n",
       "     1602    0.001    0.000    0.368    0.000 _methods.py:31(_sum)\n",
       "      200    0.001    0.000    0.362    0.002 _column_transformer.py:502(_hstack)\n",
       "      400    0.003    0.000    0.359    0.001 _column_transformer.py:569(_get_column)\n",
       "     3719    0.357    0.000    0.357    0.000 {built-in method numpy.core.multiarray.concatenate}\n",
       "      406    0.004    0.000    0.343    0.001 indexing.py:868(_getitem_tuple)\n",
       "      673    0.002    0.000    0.336    0.000 generic.py:4563(values)\n",
       "      457    0.005    0.000    0.335    0.001 generic.py:2783(_take)\n",
       "      255    0.001    0.000    0.330    0.001 shape_base.py:236(hstack)\n",
       "      673    0.003    0.000    0.328    0.000 internals.py:3922(as_array)\n",
       "      442    0.245    0.001    0.321    0.001 internals.py:3953(_interleave)\n",
       "       10    0.000    0.000    0.316    0.032 tree.py:759(fit)\n",
       "      578    0.316    0.001    0.316    0.001 {method 'argsort' of 'numpy.ndarray' objects}\n",
       "       10    0.001    0.000    0.316    0.032 tree.py:111(fit)\n",
       "      201    0.001    0.000    0.313    0.002 _encoders.py:581(transform)\n",
       "      201    0.009    0.000    0.312    0.002 _encoders.py:551(_transform_new)\n",
       "      408    0.002    0.000    0.309    0.001 indexing.py:1854(_getitem_axis)\n",
       "       20    0.000    0.000    0.303    0.015 core.py:5326(argsort)\n",
       "     2590    0.004    0.000    0.300    0.000 {pandas._libs.lib.values_from_object}\n",
       "      457    0.006    0.000    0.297    0.001 internals.py:4518(take)\n",
       "      663    0.001    0.000    0.296    0.000 generic.py:1605(__array__)\n",
       "      663    0.001    0.000    0.294    0.000 generic.py:4645(get_values)\n",
       "       50    0.000    0.000    0.293    0.006 ranking.py:130(average_precision_score)\n",
       "      406    0.002    0.000    0.291    0.001 indexing.py:1489(_getbool_axis)\n",
       "      330    0.286    0.001    0.286    0.001 {built-in method numpy.core.multiarray.where}\n",
       "       50    0.001    0.000    0.286    0.006 ranking.py:239(roc_auc_score)\n",
       "      100    0.002    0.000    0.284    0.003 arraysetops.py:590(union1d)\n",
       "      100    0.001    0.000    0.281    0.003 base.py:23(_average_binary_score)\n",
       "        1    0.000    0.000    0.273    0.273 preprocessing.py:163(safe_cleanup)\n",
       "     1218    0.087    0.000    0.269    0.000 validation.py:40(_assert_all_finite)\n",
       "       40    0.208    0.005    0.261    0.007 naive_bayes.py:429(_joint_log_likelihood)\n",
       "      465    0.003    0.000    0.254    0.001 internals.py:4388(reindex_indexer)\n",
       "       50    0.007    0.000    0.253    0.005 classification.py:115(accuracy_score)\n",
       "        2    0.001    0.001    0.249    0.125 preprocessing.py:48(detect_types_dataframe)\n",
       "    11827    0.005    0.000    0.246    0.000 numeric.py:424(asarray)\n",
       "        3    0.000    0.000    0.226    0.075 frame.py:5837(apply)\n",
       "        3    0.000    0.000    0.226    0.075 apply.py:311(get_result)\n",
       "        3    0.000    0.000    0.226    0.075 apply.py:105(get_result)\n",
       "        3    0.000    0.000    0.226    0.075 apply.py:219(apply_standard)\n",
       "       10    0.225    0.022    0.225    0.022 {method 'build' of 'sklearn.tree._tree.DepthFirstTreeBuilder' objects}\n",
       "       80    0.212    0.003    0.217    0.003 core.py:3186(__getitem__)\n",
       "     2712    0.027    0.000    0.205    0.000 algorithms.py:1548(take_nd)\n",
       "       60    0.002    0.000    0.199    0.003 multiclass.py:42(unique_labels)\n",
       "     1017    0.002    0.000    0.196    0.000 {method 'sum' of 'numpy.ndarray' objects}\n",
       "      100    0.010    0.000    0.191    0.002 ranking.py:354(_binary_clf_curve)"
      ]
     },
     "metadata": {},
     "output_type": "display_data"
    }
   ],
   "source": [
    "%%prun -s cumulative -l 100 -D test.prof\n",
    "X_cleanish = safe_cleanup(X, onehot=True)\n",
    "fc = FriendlyClassifier().fit(X_cleanish, y)"
   ]
  },
  {
   "cell_type": "code",
   "execution_count": null,
   "metadata": {},
   "outputs": [],
   "source": []
  }
 ],
 "metadata": {
  "kernelspec": {
   "display_name": "Python 3",
   "language": "python",
   "name": "python3"
  },
  "language_info": {
   "codemirror_mode": {
    "name": "ipython",
    "version": 3
   },
   "file_extension": ".py",
   "mimetype": "text/x-python",
   "name": "python",
   "nbconvert_exporter": "python",
   "pygments_lexer": "ipython3",
   "version": "3.7.1"
  }
 },
 "nbformat": 4,
 "nbformat_minor": 2
}
