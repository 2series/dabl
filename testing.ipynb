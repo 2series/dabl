{
 "cells": [
  {
   "cell_type": "code",
   "execution_count": 1,
   "metadata": {},
   "outputs": [],
   "source": [
    "import dabl\n",
    "import pandas as pd\n",
    "import matplotlib.pyplot as plt\n",
    "%matplotlib inline\n",
    "import numpy as np\n",
    "from dabl.preprocessing import detect_types\n",
    "from dabl.plotting import plot_supervised"
   ]
  },
  {
   "cell_type": "code",
   "execution_count": 2,
   "metadata": {},
   "outputs": [],
   "source": [
    "avocado = pd.read_csv(\"/home/andy/datasets/avocado.csv\", parse_dates=['Date'])\n",
    "telco_churn = pd.read_csv(\"/home/andy/datasets/WA_Fn-UseC_-Telco-Customer-Churn.csv\")\n",
    "#restaurant = pd.read_csv(\"/home/andy/datasets/restaurant-and-market-health-violations.csv\")\n",
    "titanic = pd.read_csv(\"dabl/tests/titanic.csv\")\n",
    "ames = pd.read_excel(\"/home/andy/datasets/AmesHousing.xls\")\n",
    "cars = pd.read_excel(\"/home/andy/datasets/2018 FE Guide for DOE-release dates before 1-24-2018-no-sales-1-23-2018public.xlsx\")\n",
    "target = 'Comb Unadj FE - Conventional Fuel'\n",
    "#accidents = pd.read_csv(\"/home/andy/datasets/Acc.csv\")\n",
    "#violations = pd.read_csv(\"/home/andy/datasets/Traffic_Violations.csv\")\n",
    "adult = pd.read_csv(\"/home/andy/datasets/adult.csv\")\n",
    "\n",
    "# individual_donations = pd.read_csv(\"/home/andy/datasets/itcont.txt\")\n",
    "# FIXME add rent stuff from first year\n",
    "# FIXME add stuff from Gael's papers"
   ]
  },
  {
   "cell_type": "code",
   "execution_count": 2,
   "metadata": {},
   "outputs": [],
   "source": [
    "def make_data_df(data_bunch):\n",
    "    try:\n",
    "        feature_names = data_bunch.feature_names\n",
    "    except AttributeError:\n",
    "        feature_names = ['x%d' % i for i in range(data_bunch.data.shape[1])]\n",
    "    df = pd.DataFrame(data_bunch.data, columns=feature_names)\n",
    "    try:\n",
    "        df['target'] = data_bunch.target_names[data_bunch.target]\n",
    "    except AttributeError:\n",
    "        df['target'] = data_bunch.target\n",
    "    return df\n",
    "\n",
    "from sklearn.datasets import load_diabetes, load_boston, load_iris, load_digits, load_breast_cancer\n",
    "diabetes = load_diabetes()\n",
    "boston = load_boston()"
   ]
  },
  {
   "cell_type": "code",
   "execution_count": 3,
   "metadata": {},
   "outputs": [],
   "source": [
    "data = make_data_df(load_breast_cancer())\n",
    "target = 'target'"
   ]
  },
  {
   "cell_type": "code",
   "execution_count": 18,
   "metadata": {},
   "outputs": [],
   "source": [
    "#data = pd.read_csv(\"dabl/tests/titanic.csv\", na_values=['?'])\n",
    "data = pd.read_csv(\"dabl/tests/titanic.csv\")\n",
    "target = 'survived'"
   ]
  },
  {
   "cell_type": "code",
   "execution_count": 4,
   "metadata": {},
   "outputs": [],
   "source": [
    "data = pd.read_excel(\"/home/andy/datasets/AmesHousing.xls\")\n",
    "target = 'SalePrice'"
   ]
  },
  {
   "cell_type": "code",
   "execution_count": 6,
   "metadata": {},
   "outputs": [],
   "source": [
    "data = make_data_df(load_digits())\n",
    "target = 'target'"
   ]
  },
  {
   "cell_type": "code",
   "execution_count": 4,
   "metadata": {},
   "outputs": [],
   "source": [
    "data = adult\n",
    "target = 'income'"
   ]
  },
  {
   "cell_type": "code",
   "execution_count": 8,
   "metadata": {},
   "outputs": [],
   "source": [
    "data = pd.read_csv(\"/home/andy/datasets/WA_Fn-UseC_-Telco-Customer-Churn.csv\")\n",
    "target = 'Churn'"
   ]
  },
  {
   "cell_type": "code",
   "execution_count": 23,
   "metadata": {},
   "outputs": [],
   "source": [
    "from dabl.models import EasyClassifier\n",
    "X = data.drop(target, axis=1)\n",
    "y = data[target]\n",
    "#fc = EasyClassifier(refit=True).fit(X, y)"
   ]
  },
  {
   "cell_type": "code",
   "execution_count": 24,
   "metadata": {},
   "outputs": [],
   "source": [
    "# fc.est_[0].get_feature_names()"
   ]
  },
  {
   "cell_type": "code",
   "execution_count": 25,
   "metadata": {},
   "outputs": [],
   "source": [
    "from dabl.preprocessing import EasyPreprocessor, clean\n",
    "ep = EasyPreprocessor()"
   ]
  },
  {
   "cell_type": "code",
   "execution_count": 26,
   "metadata": {},
   "outputs": [
    {
     "name": "stderr",
     "output_type": "stream",
     "text": [
      "/home/andy/checkout/dabl/dabl/preprocessing.py:212: UserWarning: Discarding near-constant features: ['fare_?']\n",
      "  near_constant.index[near_constant].tolist()))\n",
      "/home/andy/checkout/dabl/dabl/preprocessing.py:212: UserWarning: Discarding near-constant features: ['fare_?']\n",
      "  near_constant.index[near_constant].tolist()))\n"
     ]
    },
    {
     "data": {
      "text/plain": [
       "EasyPreprocessor(scale=True, types=None, verbose=0)"
      ]
     },
     "execution_count": 26,
     "metadata": {},
     "output_type": "execute_result"
    }
   ],
   "source": [
    "X = clean(X)\n",
    "ep.fit(X, y)"
   ]
  },
  {
   "cell_type": "code",
   "execution_count": 27,
   "metadata": {},
   "outputs": [
    {
     "data": {
      "text/plain": [
       "Index(['age_?', 'age_dabl_continuous', 'fare_?', 'fare_dabl_continuous',\n",
       "       'body_?', 'body_dabl_continuous', 'pclass', 'name', 'sex', 'sibsp',\n",
       "       'parch', 'ticket', 'cabin', 'embarked', 'boat', 'home.dest'],\n",
       "      dtype='object')"
      ]
     },
     "execution_count": 27,
     "metadata": {},
     "output_type": "execute_result"
    }
   ],
   "source": [
    "X.columns"
   ]
  },
  {
   "cell_type": "code",
   "execution_count": 28,
   "metadata": {},
   "outputs": [
    {
     "data": {
      "text/plain": [
       "Index(['age_?', 'age_dabl_continuous', 'fare_?', 'fare_dabl_continuous',\n",
       "       'body_?', 'body_dabl_continuous', 'pclass', 'name', 'sex', 'sibsp',\n",
       "       'parch', 'ticket', 'cabin', 'embarked', 'boat', 'home.dest'],\n",
       "      dtype='object')"
      ]
     },
     "execution_count": 28,
     "metadata": {},
     "output_type": "execute_result"
    }
   ],
   "source": [
    "ep.columns_"
   ]
  },
  {
   "cell_type": "code",
   "execution_count": 29,
   "metadata": {},
   "outputs": [],
   "source": [
    "n, est, cols = ep.ct_.transformers_[1]"
   ]
  },
  {
   "cell_type": "code",
   "execution_count": 30,
   "metadata": {},
   "outputs": [
    {
     "data": {
      "text/plain": [
       "age_?                    True\n",
       "age_dabl_continuous     False\n",
       "boat                     True\n",
       "body_?                   True\n",
       "body_dabl_continuous    False\n",
       "cabin                   False\n",
       "embarked                 True\n",
       "fare_?                  False\n",
       "fare_dabl_continuous    False\n",
       "home.dest               False\n",
       "name                    False\n",
       "parch                   False\n",
       "pclass                   True\n",
       "sex                      True\n",
       "sibsp                   False\n",
       "ticket                  False\n",
       "Name: categorical, dtype: bool"
      ]
     },
     "execution_count": 30,
     "metadata": {},
     "output_type": "execute_result"
    }
   ],
   "source": [
    "cols"
   ]
  },
  {
   "cell_type": "code",
   "execution_count": 31,
   "metadata": {},
   "outputs": [
    {
     "data": {
      "text/plain": [
       "Index(['age_?', 'fare_?', 'fare_dabl_continuous', 'pclass', 'cabin',\n",
       "       'embarked'],\n",
       "      dtype='object')"
      ]
     },
     "execution_count": 31,
     "metadata": {},
     "output_type": "execute_result"
    }
   ],
   "source": [
    "X.columns[cols]"
   ]
  },
  {
   "cell_type": "code",
   "execution_count": 32,
   "metadata": {},
   "outputs": [
    {
     "data": {
      "text/plain": [
       "Index(['age_?', 'fare_?', 'fare_dabl_continuous', 'pclass', 'cabin',\n",
       "       'embarked'],\n",
       "      dtype='object')"
      ]
     },
     "execution_count": 32,
     "metadata": {},
     "output_type": "execute_result"
    }
   ],
   "source": [
    "X.columns[cols]"
   ]
  },
  {
   "cell_type": "code",
   "execution_count": 33,
   "metadata": {},
   "outputs": [],
   "source": [
    "ct = ep.ct_"
   ]
  },
  {
   "cell_type": "code",
   "execution_count": 34,
   "metadata": {},
   "outputs": [],
   "source": [
    "ohe = ct.named_transformers_.categorical[-1]"
   ]
  },
  {
   "cell_type": "code",
   "execution_count": 35,
   "metadata": {},
   "outputs": [
    {
     "data": {
      "text/plain": [
       "Index(['age_?', 'body_?', 'pclass', 'sex', 'embarked', 'boat'], dtype='object')"
      ]
     },
     "execution_count": 35,
     "metadata": {},
     "output_type": "execute_result"
    }
   ],
   "source": [
    "X.columns[X.columns.map(cols)]  ## WTF Ask joris!!"
   ]
  },
  {
   "cell_type": "code",
   "execution_count": 36,
   "metadata": {},
   "outputs": [
    {
     "data": {
      "text/plain": [
       "array(['x0_0.0', 'x0_1.0', 'x1_0.0', 'x1_1.0', 'x2_1', 'x2_2', 'x2_3',\n",
       "       'x3_female', 'x3_male', 'x4_?', 'x4_C', 'x4_Q', 'x4_S', 'x5_1',\n",
       "       'x5_10', 'x5_11', 'x5_12', 'x5_13', 'x5_13 15', 'x5_13 15 B',\n",
       "       'x5_14', 'x5_15', 'x5_15 16', 'x5_16', 'x5_2', 'x5_3', 'x5_4',\n",
       "       'x5_5', 'x5_5 7', 'x5_5 9', 'x5_6', 'x5_7', 'x5_8', 'x5_8 10',\n",
       "       'x5_9', 'x5_?', 'x5_A', 'x5_B', 'x5_C', 'x5_C D', 'x5_D'],\n",
       "      dtype=object)"
      ]
     },
     "execution_count": 36,
     "metadata": {},
     "output_type": "execute_result"
    }
   ],
   "source": [
    "ohe.get_feature_names()"
   ]
  },
  {
   "cell_type": "code",
   "execution_count": 37,
   "metadata": {},
   "outputs": [
    {
     "data": {
      "text/plain": [
       "['age_dabl_continuous',\n",
       " 'body_dabl_continuous',\n",
       " 'fare_dabl_continuous',\n",
       " 'age_?_0.0',\n",
       " 'age_?_1.0',\n",
       " 'body_?_0.0',\n",
       " 'body_?_1.0',\n",
       " 'pclass_1',\n",
       " 'pclass_2',\n",
       " 'pclass_3',\n",
       " 'sex_female',\n",
       " 'sex_male',\n",
       " 'embarked_?',\n",
       " 'embarked_C',\n",
       " 'embarked_Q',\n",
       " 'embarked_S',\n",
       " 'boat_1',\n",
       " 'boat_10',\n",
       " 'boat_11',\n",
       " 'boat_12',\n",
       " 'boat_13',\n",
       " 'boat_13 15',\n",
       " 'boat_13 15 B',\n",
       " 'boat_14',\n",
       " 'boat_15',\n",
       " 'boat_15 16',\n",
       " 'boat_16',\n",
       " 'boat_2',\n",
       " 'boat_3',\n",
       " 'boat_4',\n",
       " 'boat_5',\n",
       " 'boat_5 7',\n",
       " 'boat_5 9',\n",
       " 'boat_6',\n",
       " 'boat_7',\n",
       " 'boat_8',\n",
       " 'boat_8 10',\n",
       " 'boat_9',\n",
       " 'boat_?',\n",
       " 'boat_A',\n",
       " 'boat_B',\n",
       " 'boat_C',\n",
       " 'boat_C D',\n",
       " 'boat_D']"
      ]
     },
     "execution_count": 37,
     "metadata": {},
     "output_type": "execute_result"
    }
   ],
   "source": [
    "ep.get_feature_names()"
   ]
  },
  {
   "cell_type": "code",
   "execution_count": 4,
   "metadata": {},
   "outputs": [
    {
     "ename": "AttributeError",
     "evalue": "Transformer continuous (type Pipeline) does not provide get_feature_names.",
     "output_type": "error",
     "traceback": [
      "\u001b[0;31m---------------------------------------------------------------------------\u001b[0m",
      "\u001b[0;31mTypeError\u001b[0m                                 Traceback (most recent call last)",
      "\u001b[0;32m~/checkout/dabl/dabl/explain.py\u001b[0m in \u001b[0;36mexplain\u001b[0;34m(estimator, feature_names)\u001b[0m\n\u001b[1;32m    103\u001b[0m         \u001b[0;32mtry\u001b[0m\u001b[0;34m:\u001b[0m\u001b[0;34m\u001b[0m\u001b[0;34m\u001b[0m\u001b[0m\n\u001b[0;32m--> 104\u001b[0;31m             \u001b[0mfeature_names\u001b[0m \u001b[0;34m=\u001b[0m \u001b[0mestimator\u001b[0m\u001b[0;34m[\u001b[0m\u001b[0;36m0\u001b[0m\u001b[0;34m]\u001b[0m\u001b[0;34m.\u001b[0m\u001b[0mget_feature_names\u001b[0m\u001b[0;34m(\u001b[0m\u001b[0mfeature_names\u001b[0m\u001b[0;34m)\u001b[0m\u001b[0;34m\u001b[0m\u001b[0;34m\u001b[0m\u001b[0m\n\u001b[0m\u001b[1;32m    105\u001b[0m         \u001b[0;32mexcept\u001b[0m \u001b[0mTypeError\u001b[0m\u001b[0;34m:\u001b[0m\u001b[0;34m\u001b[0m\u001b[0;34m\u001b[0m\u001b[0m\n",
      "\u001b[0;31mTypeError\u001b[0m: get_feature_names() takes 1 positional argument but 2 were given",
      "\nDuring handling of the above exception, another exception occurred:\n",
      "\u001b[0;31mAttributeError\u001b[0m                            Traceback (most recent call last)",
      "\u001b[0;32m<ipython-input-4-f30b5f176811>\u001b[0m in \u001b[0;36m<module>\u001b[0;34m()\u001b[0m\n\u001b[1;32m      1\u001b[0m \u001b[0;32mfrom\u001b[0m \u001b[0mdabl\u001b[0m\u001b[0;34m.\u001b[0m\u001b[0mexplain\u001b[0m \u001b[0;32mimport\u001b[0m \u001b[0mexplain\u001b[0m\u001b[0;34m\u001b[0m\u001b[0;34m\u001b[0m\u001b[0m\n\u001b[0;32m----> 2\u001b[0;31m \u001b[0mexplain\u001b[0m\u001b[0;34m(\u001b[0m\u001b[0mfc\u001b[0m\u001b[0;34m)\u001b[0m\u001b[0;34m\u001b[0m\u001b[0;34m\u001b[0m\u001b[0m\n\u001b[0m",
      "\u001b[0;32m~/checkout/dabl/dabl/explain.py\u001b[0m in \u001b[0;36mexplain\u001b[0;34m(estimator, feature_names)\u001b[0m\n\u001b[1;32m    104\u001b[0m             \u001b[0mfeature_names\u001b[0m \u001b[0;34m=\u001b[0m \u001b[0mestimator\u001b[0m\u001b[0;34m[\u001b[0m\u001b[0;36m0\u001b[0m\u001b[0;34m]\u001b[0m\u001b[0;34m.\u001b[0m\u001b[0mget_feature_names\u001b[0m\u001b[0;34m(\u001b[0m\u001b[0mfeature_names\u001b[0m\u001b[0;34m)\u001b[0m\u001b[0;34m\u001b[0m\u001b[0;34m\u001b[0m\u001b[0m\n\u001b[1;32m    105\u001b[0m         \u001b[0;32mexcept\u001b[0m \u001b[0mTypeError\u001b[0m\u001b[0;34m:\u001b[0m\u001b[0;34m\u001b[0m\u001b[0;34m\u001b[0m\u001b[0m\n\u001b[0;32m--> 106\u001b[0;31m             \u001b[0mfeature_names\u001b[0m \u001b[0;34m=\u001b[0m \u001b[0mestimator\u001b[0m\u001b[0;34m[\u001b[0m\u001b[0;36m0\u001b[0m\u001b[0;34m]\u001b[0m\u001b[0;34m.\u001b[0m\u001b[0mget_feature_names\u001b[0m\u001b[0;34m(\u001b[0m\u001b[0;34m)\u001b[0m\u001b[0;34m\u001b[0m\u001b[0;34m\u001b[0m\u001b[0m\n\u001b[0m\u001b[1;32m    107\u001b[0m \u001b[0;34m\u001b[0m\u001b[0m\n\u001b[1;32m    108\u001b[0m         \u001b[0;31m# now we have input feature names for the final step\u001b[0m\u001b[0;34m\u001b[0m\u001b[0;34m\u001b[0m\u001b[0;34m\u001b[0m\u001b[0m\n",
      "\u001b[0;32m~/checkout/dabl/dabl/preprocessing.py\u001b[0m in \u001b[0;36mget_feature_names\u001b[0;34m(self)\u001b[0m\n\u001b[1;32m    476\u001b[0m \u001b[0;34m\u001b[0m\u001b[0m\n\u001b[1;32m    477\u001b[0m     \u001b[0;32mdef\u001b[0m \u001b[0mget_feature_names\u001b[0m\u001b[0;34m(\u001b[0m\u001b[0mself\u001b[0m\u001b[0;34m)\u001b[0m\u001b[0;34m:\u001b[0m\u001b[0;34m\u001b[0m\u001b[0;34m\u001b[0m\u001b[0m\n\u001b[0;32m--> 478\u001b[0;31m         \u001b[0;32mreturn\u001b[0m \u001b[0mself\u001b[0m\u001b[0;34m.\u001b[0m\u001b[0mct_\u001b[0m\u001b[0;34m.\u001b[0m\u001b[0mget_feature_names\u001b[0m\u001b[0;34m(\u001b[0m\u001b[0;34m)\u001b[0m\u001b[0;34m\u001b[0m\u001b[0;34m\u001b[0m\u001b[0m\n\u001b[0m\u001b[1;32m    479\u001b[0m \u001b[0;34m\u001b[0m\u001b[0m\n\u001b[1;32m    480\u001b[0m     \u001b[0;32mdef\u001b[0m \u001b[0mtransform\u001b[0m\u001b[0;34m(\u001b[0m\u001b[0mself\u001b[0m\u001b[0;34m,\u001b[0m \u001b[0mX\u001b[0m\u001b[0;34m)\u001b[0m\u001b[0;34m:\u001b[0m\u001b[0;34m\u001b[0m\u001b[0;34m\u001b[0m\u001b[0m\n",
      "\u001b[0;32m~/checkout/scikit-learn/sklearn/compose/_column_transformer.py\u001b[0m in \u001b[0;36mget_feature_names\u001b[0;34m(self)\u001b[0m\n\u001b[1;32m    337\u001b[0m                 raise AttributeError(\"Transformer %s (type %s) does not \"\n\u001b[1;32m    338\u001b[0m                                      \u001b[0;34m\"provide get_feature_names.\"\u001b[0m\u001b[0;34m\u001b[0m\u001b[0;34m\u001b[0m\u001b[0m\n\u001b[0;32m--> 339\u001b[0;31m                                      % (str(name), type(trans).__name__))\n\u001b[0m\u001b[1;32m    340\u001b[0m             feature_names.extend([name + \"__\" + f for f in\n\u001b[1;32m    341\u001b[0m                                   trans.get_feature_names()])\n",
      "\u001b[0;31mAttributeError\u001b[0m: Transformer continuous (type Pipeline) does not provide get_feature_names."
     ]
    }
   ],
   "source": [
    "from dabl.explain import explain\n",
    "explain(fc)"
   ]
  },
  {
   "cell_type": "code",
   "execution_count": null,
   "metadata": {},
   "outputs": [],
   "source": [
    "# from sklearn.datasets import fetch_openml\n",
    "# adult = fetch_openml(\"adult-census\")\n",
    "# adult_df = pd.DataFrame(adult.data, columns=adult.feature_names)"
   ]
  },
  {
   "cell_type": "code",
   "execution_count": null,
   "metadata": {},
   "outputs": [],
   "source": [
    "y = adult.income\n",
    "X = adult.drop(\"income\", axis=1)"
   ]
  },
  {
   "cell_type": "code",
   "execution_count": null,
   "metadata": {},
   "outputs": [],
   "source": [
    "X.columns"
   ]
  },
  {
   "cell_type": "code",
   "execution_count": null,
   "metadata": {},
   "outputs": [],
   "source": [
    "X.shape"
   ]
  },
  {
   "cell_type": "code",
   "execution_count": null,
   "metadata": {},
   "outputs": [],
   "source": [
    "from fml.preprocessing import detect_types_dataframe\n",
    "detect_types_dataframe(X)"
   ]
  },
  {
   "cell_type": "code",
   "execution_count": null,
   "metadata": {},
   "outputs": [],
   "source": [
    "n_values = X.apply(lambda x: x.nunique())\n",
    "n_values"
   ]
  },
  {
   "cell_type": "code",
   "execution_count": null,
   "metadata": {},
   "outputs": [],
   "source": [
    "fc = FriendlyClassifier().fit(X, y)"
   ]
  },
  {
   "cell_type": "code",
   "execution_count": null,
   "metadata": {},
   "outputs": [],
   "source": [
    "from fml.preprocessing import detect_types_dataframe"
   ]
  },
  {
   "cell_type": "code",
   "execution_count": null,
   "metadata": {},
   "outputs": [],
   "source": []
  },
  {
   "cell_type": "code",
   "execution_count": null,
   "metadata": {},
   "outputs": [],
   "source": [
    "asdf = detect_types_dataframe(X, verbose=10)"
   ]
  },
  {
   "cell_type": "code",
   "execution_count": null,
   "metadata": {},
   "outputs": [],
   "source": [
    "asdf.categorical"
   ]
  },
  {
   "cell_type": "code",
   "execution_count": null,
   "metadata": {},
   "outputs": [],
   "source": [
    "\"\".join(\"{}: {} \".format(a, b) for a, b in asdf.categorical.items())"
   ]
  },
  {
   "cell_type": "code",
   "execution_count": null,
   "metadata": {},
   "outputs": [],
   "source": [
    "X_cleanish.shape"
   ]
  },
  {
   "cell_type": "code",
   "execution_count": null,
   "metadata": {},
   "outputs": [],
   "source": [
    "fp = FriendlyPreprocessor()\n",
    "fp.fit_transform(X_cleanish).shape"
   ]
  },
  {
   "cell_type": "code",
   "execution_count": null,
   "metadata": {},
   "outputs": [],
   "source": [
    "%%prun -s cumulative -l 100 -D test.prof\n",
    "X_cleanish = safe_cleanup(X, onehot=True)\n",
    "fc = FriendlyClassifier().fit(X_cleanish, y)"
   ]
  },
  {
   "cell_type": "code",
   "execution_count": 19,
   "metadata": {},
   "outputs": [],
   "source": [
    "X.index = np.zeros(len(X))"
   ]
  },
  {
   "cell_type": "code",
   "execution_count": 22,
   "metadata": {},
   "outputs": [
    {
     "data": {
      "text/plain": [
       "False"
      ]
     },
     "execution_count": 22,
     "metadata": {},
     "output_type": "execute_result"
    }
   ],
   "source": [
    "X.index.is_unique"
   ]
  },
  {
   "cell_type": "code",
   "execution_count": 27,
   "metadata": {},
   "outputs": [
    {
     "data": {
      "text/html": [
       "<div>\n",
       "<style scoped>\n",
       "    .dataframe tbody tr th:only-of-type {\n",
       "        vertical-align: middle;\n",
       "    }\n",
       "\n",
       "    .dataframe tbody tr th {\n",
       "        vertical-align: top;\n",
       "    }\n",
       "\n",
       "    .dataframe thead th {\n",
       "        text-align: right;\n",
       "    }\n",
       "</style>\n",
       "<table border=\"1\" class=\"dataframe\">\n",
       "  <thead>\n",
       "    <tr style=\"text-align: right;\">\n",
       "      <th></th>\n",
       "      <th>a</th>\n",
       "      <th>a</th>\n",
       "    </tr>\n",
       "  </thead>\n",
       "  <tbody>\n",
       "    <tr>\n",
       "      <th>0</th>\n",
       "      <td>0</td>\n",
       "      <td>1</td>\n",
       "    </tr>\n",
       "  </tbody>\n",
       "</table>\n",
       "</div>"
      ],
      "text/plain": [
       "   a  a\n",
       "0  0  1"
      ]
     },
     "execution_count": 27,
     "metadata": {},
     "output_type": "execute_result"
    }
   ],
   "source": [
    "X = pd.DataFrame([[0, 1]], columns=['a', 'a'])\n",
    "X"
   ]
  },
  {
   "cell_type": "code",
   "execution_count": null,
   "metadata": {},
   "outputs": [],
   "source": []
  }
 ],
 "metadata": {
  "kernelspec": {
   "display_name": "Python 3",
   "language": "python",
   "name": "python3"
  },
  "language_info": {
   "codemirror_mode": {
    "name": "ipython",
    "version": 3
   },
   "file_extension": ".py",
   "mimetype": "text/x-python",
   "name": "python",
   "nbconvert_exporter": "python",
   "pygments_lexer": "ipython3",
   "version": "3.7.1"
  }
 },
 "nbformat": 4,
 "nbformat_minor": 2
}
