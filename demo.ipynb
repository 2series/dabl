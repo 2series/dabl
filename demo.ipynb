{
 "cells": [
  {
   "cell_type": "markdown",
   "metadata": {},
   "source": [
    "# A quick demo of dabl on some toy datasets and slightly more interesting datasets"
   ]
  },
  {
   "cell_type": "markdown",
   "metadata": {},
   "source": [
    "# Scikit-learn build-in datasets:"
   ]
  },
  {
   "cell_type": "markdown",
   "metadata": {},
   "source": [
    "## Boston housing regressionmm"
   ]
  },
  {
   "cell_type": "code",
   "execution_count": null,
   "metadata": {},
   "outputs": [],
   "source": [
    "import dabl\n",
    "from sklearn.datasets import load_boston\n",
    "boston = load_boston()\n",
    "# create a dataframe from an sklearn dataset bunch\n",
    "boston_df = dabl.utils.data_df_from_bunch(boston)\n",
    "boston_df.head()"
   ]
  },
  {
   "cell_type": "code",
   "execution_count": null,
   "metadata": {},
   "outputs": [],
   "source": [
    "dabl.plot_supervised(boston_df, 'target')"
   ]
  },
  {
   "cell_type": "markdown",
   "metadata": {},
   "source": [
    "Rad is detectedass categorical, which might make sense. If you disagree, you can specify it to be continuous:\n",
    "### FIXME THIS IS NOT WORKING?"
   ]
  },
  {
   "cell_type": "code",
   "execution_count": null,
   "metadata": {},
   "outputs": [],
   "source": [
    "dabl.plot_supervised(boston_df, 'target', type_hints={'RAD': 'continuous'})"
   ]
  },
  {
   "cell_type": "code",
   "execution_count": null,
   "metadata": {},
   "outputs": [],
   "source": [
    "sr = dabl.SimpleRegressor()\n",
    "sr.fit(boston_df, target_col='target')"
   ]
  },
  {
   "cell_type": "code",
   "execution_count": null,
   "metadata": {},
   "outputs": [],
   "source": [
    "# highly regularized ridge won. r^2 of .5 is not great but also not terrible.\n",
    "# the fast regression models are not really thought-through yet.\n",
    "# still we can look at coefficients.\n",
    "dabl.explain(sr)"
   ]
  },
  {
   "cell_type": "code",
   "execution_count": null,
   "metadata": {},
   "outputs": [],
   "source": [
    "# The top features shown in the plot (using f test) also have the largest (absolute) coefficient values, lstat and RM.\n",
    "# only the top 10 coefficients are shown right now. Clearly we could do better by adding non-linear transformations to the data from the plots above.\n",
    "# future work!"
   ]
  },
  {
   "cell_type": "markdown",
   "metadata": {},
   "source": [
    "## Wine classification"
   ]
  },
  {
   "cell_type": "code",
   "execution_count": null,
   "metadata": {},
   "outputs": [],
   "source": [
    "from sklearn.datasets import load_wine\n",
    "wine_df = dabl.utils.data_df_from_bunch(load_wine())\n",
    "wine_df.head()"
   ]
  },
  {
   "cell_type": "code",
   "execution_count": null,
   "metadata": {},
   "outputs": [],
   "source": [
    "dabl.plot_supervised(wine_df, 'target')"
   ]
  },
  {
   "cell_type": "code",
   "execution_count": null,
   "metadata": {},
   "outputs": [],
   "source": [
    "# obviously LDA solved the problem as we can see in the last plot. I might just want to use LDA or another linear model.\n",
    "# Or we see what the SimpleClassifier does:\n",
    "sc = dabl.SimpleClassifier()\n",
    "sc.fit(wine_df, target_col='target')"
   ]
  },
  {
   "cell_type": "code",
   "execution_count": null,
   "metadata": {},
   "outputs": [],
   "source": [
    "# logistic regression has slightly higher accuracy and macro-average recall (which is the main metric we use)\n",
    "# than linear discriminant analysis. Not really a shocker.\n",
    "dabl.explain(sc)"
   ]
  },
  {
   "cell_type": "markdown",
   "metadata": {},
   "source": [
    "Interestingly the large coefficients don't really correspond to what's shown in the univariate or pairplots. Possibly because the data is very correlated? Who knows!\n",
    "I assume we could create a simpler model with less features from the plots above. Maybe lasso next time?"
   ]
  },
  {
   "cell_type": "markdown",
   "metadata": {},
   "source": [
    "## Ames housing dataset"
   ]
  },
  {
   "cell_type": "code",
   "execution_count": null,
   "metadata": {},
   "outputs": [],
   "source": [
    "ames_df = dabl.datasets.load_ames()\n",
    "ames_df.head()"
   ]
  },
  {
   "cell_type": "code",
   "execution_count": null,
   "metadata": {},
   "outputs": [],
   "source": [
    "dabl.plot_supervised(ames_df, 'SalePrice')"
   ]
  },
  {
   "cell_type": "markdown",
   "metadata": {},
   "source": [
    "You can see that high-ordinality categorical variables were summarized with rare categories binned into \"dabl_other\".\n",
    "Also, ``GarageCars`` should maybe be plotted as a categorical variable - and there's a garage that will be build in 2200. Huh.\n",
    "We were pretty aggressive with dropping \"near-constant\" features. Maybe being less agressive might be good in some situations?"
   ]
  },
  {
   "cell_type": "code",
   "execution_count": null,
   "metadata": {},
   "outputs": [],
   "source": [
    "dabl.plot_supervised(ames_df, 'SalePrice', type_hints={'Garage Cars': 'categorical'})"
   ]
  },
  {
   "cell_type": "code",
   "execution_count": null,
   "metadata": {},
   "outputs": [],
   "source": [
    "# FIXME did garage cars vanish because it's unimportant or because we messed up the type hints? Probably the latter..."
   ]
  },
  {
   "cell_type": "code",
   "execution_count": null,
   "metadata": {},
   "outputs": [],
   "source": [
    "sr = dabl.SimpleRegressor()\n",
    "sr.fit(ames_df, target_col='SalePrice')"
   ]
  },
  {
   "cell_type": "code",
   "execution_count": null,
   "metadata": {},
   "outputs": [],
   "source": [
    "dabl.explain(sr)"
   ]
  },
  {
   "cell_type": "code",
   "execution_count": null,
   "metadata": {},
   "outputs": [],
   "source": [
    "# The neighborhood seems to dominate, no continuous variable is in the top 10 highest coefficients."
   ]
  }
 ],
 "metadata": {
  "kernelspec": {
   "display_name": "Python 3",
   "language": "python",
   "name": "python3"
  },
  "language_info": {
   "codemirror_mode": {
    "name": "ipython",
    "version": 3
   },
   "file_extension": ".py",
   "mimetype": "text/x-python",
   "name": "python",
   "nbconvert_exporter": "python",
   "pygments_lexer": "ipython3",
   "version": "3.7.1"
  }
 },
 "nbformat": 4,
 "nbformat_minor": 2
}
